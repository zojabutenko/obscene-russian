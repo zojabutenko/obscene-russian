{
  "nbformat": 4,
  "nbformat_minor": 0,
  "metadata": {
    "colab": {
      "name": "word2vec.ipynb",
      "provenance": [],
      "toc_visible": true
    },
    "kernelspec": {
      "name": "python3",
      "display_name": "Python 3"
    },
    "language_info": {
      "name": "python"
    }
  },
  "cells": [
    {
      "cell_type": "markdown",
      "metadata": {
        "id": "g3nfkz_McEKb"
      },
      "source": [
        "# Preprocessing"
      ]
    },
    {
      "cell_type": "markdown",
      "metadata": {
        "id": "VD8ZJLP3cHgQ"
      },
      "source": [
        "## imports"
      ]
    },
    {
      "cell_type": "code",
      "metadata": {
        "colab": {
          "base_uri": "https://localhost:8080/"
        },
        "id": "8lzH6umXhQZv",
        "outputId": "b9080b07-e8d5-45d3-d7d6-92373b7582e8"
      },
      "source": [
        "from google.colab import files\n",
        "import re\n",
        "import pandas as pd\n",
        "from tqdm import tqdm\n",
        "tqdm.pandas()\n",
        "import string\n",
        "import gensim\n",
        "from gensim.models import word2vec\n"
      ],
      "execution_count": null,
      "outputs": [
        {
          "output_type": "stream",
          "text": [
            "/usr/local/lib/python3.7/dist-packages/tqdm/std.py:658: FutureWarning: The Panel class is removed from pandas. Accessing it from the top-level namespace will also be removed in the next version\n",
            "  from pandas import Panel\n"
          ],
          "name": "stderr"
        }
      ]
    },
    {
      "cell_type": "code",
      "metadata": {
        "colab": {
          "resources": {
            "http://localhost:8080/nbextensions/google.colab/files.js": {
              "data": "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",
              "ok": true,
              "headers": [
                [
                  "content-type",
                  "application/javascript"
                ]
              ],
              "status": 200,
              "status_text": ""
            }
          },
          "base_uri": "https://localhost:8080/",
          "height": 106
        },
        "id": "Qfjn_VxNheck",
        "outputId": "935af136-034b-4a7b-b6df-de0f504d8122"
      },
      "source": [
        "uploaded = files.upload()"
      ],
      "execution_count": null,
      "outputs": [
        {
          "output_type": "display_data",
          "data": {
            "text/html": [
              "\n",
              "     <input type=\"file\" id=\"files-bfe1daee-da68-44c8-9bd2-0d9addfb8afb\" name=\"files[]\" multiple disabled\n",
              "        style=\"border:none\" />\n",
              "     <output id=\"result-bfe1daee-da68-44c8-9bd2-0d9addfb8afb\">\n",
              "      Upload widget is only available when the cell has been executed in the\n",
              "      current browser session. Please rerun this cell to enable.\n",
              "      </output>\n",
              "      <script src=\"/nbextensions/google.colab/files.js\"></script> "
            ],
            "text/plain": [
              "<IPython.core.display.HTML object>"
            ]
          },
          "metadata": {
            "tags": []
          }
        },
        {
          "output_type": "stream",
          "text": [
            "Saving blyad.txt to blyad.txt\n",
            "Saving blyat.txt to blyat.txt\n"
          ],
          "name": "stdout"
        }
      ]
    },
    {
      "cell_type": "code",
      "metadata": {
        "colab": {
          "base_uri": "https://localhost:8080/"
        },
        "id": "d0LkNLz4nuoN",
        "outputId": "c2410f89-e0ac-41ec-a817-c338b9fac5f6"
      },
      "source": [
        "!pip install stanza"
      ],
      "execution_count": null,
      "outputs": [
        {
          "output_type": "stream",
          "text": [
            "Collecting stanza\n",
            "\u001b[?25l  Downloading https://files.pythonhosted.org/packages/50/ae/a70a58ce6b4e2daad538688806ee0f238dbe601954582a74ea57cde6c532/stanza-1.2-py3-none-any.whl (282kB)\n",
            "\r\u001b[K     |█▏                              | 10kB 17.6MB/s eta 0:00:01\r\u001b[K     |██▎                             | 20kB 22.1MB/s eta 0:00:01\r\u001b[K     |███▌                            | 30kB 10.2MB/s eta 0:00:01\r\u001b[K     |████▋                           | 40kB 8.3MB/s eta 0:00:01\r\u001b[K     |█████▉                          | 51kB 5.3MB/s eta 0:00:01\r\u001b[K     |███████                         | 61kB 6.2MB/s eta 0:00:01\r\u001b[K     |████████▏                       | 71kB 6.3MB/s eta 0:00:01\r\u001b[K     |█████████▎                      | 81kB 6.1MB/s eta 0:00:01\r\u001b[K     |██████████▌                     | 92kB 6.0MB/s eta 0:00:01\r\u001b[K     |███████████▋                    | 102kB 6.5MB/s eta 0:00:01\r\u001b[K     |████████████▉                   | 112kB 6.5MB/s eta 0:00:01\r\u001b[K     |██████████████                  | 122kB 6.5MB/s eta 0:00:01\r\u001b[K     |███████████████                 | 133kB 6.5MB/s eta 0:00:01\r\u001b[K     |████████████████▎               | 143kB 6.5MB/s eta 0:00:01\r\u001b[K     |█████████████████▍              | 153kB 6.5MB/s eta 0:00:01\r\u001b[K     |██████████████████▋             | 163kB 6.5MB/s eta 0:00:01\r\u001b[K     |███████████████████▊            | 174kB 6.5MB/s eta 0:00:01\r\u001b[K     |█████████████████████           | 184kB 6.5MB/s eta 0:00:01\r\u001b[K     |██████████████████████          | 194kB 6.5MB/s eta 0:00:01\r\u001b[K     |███████████████████████▎        | 204kB 6.5MB/s eta 0:00:01\r\u001b[K     |████████████████████████▍       | 215kB 6.5MB/s eta 0:00:01\r\u001b[K     |█████████████████████████▋      | 225kB 6.5MB/s eta 0:00:01\r\u001b[K     |██████████████████████████▊     | 235kB 6.5MB/s eta 0:00:01\r\u001b[K     |███████████████████████████▉    | 245kB 6.5MB/s eta 0:00:01\r\u001b[K     |█████████████████████████████   | 256kB 6.5MB/s eta 0:00:01\r\u001b[K     |██████████████████████████████▏ | 266kB 6.5MB/s eta 0:00:01\r\u001b[K     |███████████████████████████████▍| 276kB 6.5MB/s eta 0:00:01\r\u001b[K     |████████████████████████████████| 286kB 6.5MB/s \n",
            "\u001b[?25hRequirement already satisfied: tqdm in /usr/local/lib/python3.7/dist-packages (from stanza) (4.41.1)\n",
            "Requirement already satisfied: requests in /usr/local/lib/python3.7/dist-packages (from stanza) (2.23.0)\n",
            "Requirement already satisfied: numpy in /usr/local/lib/python3.7/dist-packages (from stanza) (1.19.5)\n",
            "Requirement already satisfied: torch>=1.3.0 in /usr/local/lib/python3.7/dist-packages (from stanza) (1.8.1+cu101)\n",
            "Requirement already satisfied: protobuf in /usr/local/lib/python3.7/dist-packages (from stanza) (3.12.4)\n",
            "Requirement already satisfied: idna<3,>=2.5 in /usr/local/lib/python3.7/dist-packages (from requests->stanza) (2.10)\n",
            "Requirement already satisfied: urllib3!=1.25.0,!=1.25.1,<1.26,>=1.21.1 in /usr/local/lib/python3.7/dist-packages (from requests->stanza) (1.24.3)\n",
            "Requirement already satisfied: certifi>=2017.4.17 in /usr/local/lib/python3.7/dist-packages (from requests->stanza) (2020.12.5)\n",
            "Requirement already satisfied: chardet<4,>=3.0.2 in /usr/local/lib/python3.7/dist-packages (from requests->stanza) (3.0.4)\n",
            "Requirement already satisfied: typing-extensions in /usr/local/lib/python3.7/dist-packages (from torch>=1.3.0->stanza) (3.7.4.3)\n",
            "Requirement already satisfied: setuptools in /usr/local/lib/python3.7/dist-packages (from protobuf->stanza) (56.1.0)\n",
            "Requirement already satisfied: six>=1.9 in /usr/local/lib/python3.7/dist-packages (from protobuf->stanza) (1.15.0)\n",
            "Installing collected packages: stanza\n",
            "Successfully installed stanza-1.2\n"
          ],
          "name": "stdout"
        }
      ]
    },
    {
      "cell_type": "code",
      "metadata": {
        "colab": {
          "base_uri": "https://localhost:8080/"
        },
        "id": "iBnOCxHroS9G",
        "outputId": "6b6f5d60-4073-4f32-c2a0-5ea93dd796d6"
      },
      "source": [
        "import stanza\n",
        "stanza.download('ru')\n",
        "nlp = stanza.Pipeline('ru')"
      ],
      "execution_count": null,
      "outputs": [
        {
          "output_type": "stream",
          "text": [
            "Downloading https://raw.githubusercontent.com/stanfordnlp/stanza-resources/master/resources_1.2.0.json: 128kB [00:00, 21.5MB/s]                    \n",
            "2021-05-29 14:35:47 INFO: Downloading default packages for language: ru (Russian)...\n",
            "Downloading http://nlp.stanford.edu/software/stanza/1.2.0/ru/default.zip: 100%|██████████| 574M/574M [01:44<00:00, 5.48MB/s]\n",
            "2021-05-29 14:37:40 INFO: Finished downloading models and saved to /root/stanza_resources.\n",
            "2021-05-29 14:37:40 INFO: Loading these models for language: ru (Russian):\n",
            "=========================\n",
            "| Processor | Package   |\n",
            "-------------------------\n",
            "| tokenize  | syntagrus |\n",
            "| pos       | syntagrus |\n",
            "| lemma     | syntagrus |\n",
            "| depparse  | syntagrus |\n",
            "| ner       | wikiner   |\n",
            "=========================\n",
            "\n",
            "2021-05-29 14:37:40 INFO: Use device: cpu\n",
            "2021-05-29 14:37:40 INFO: Loading: tokenize\n",
            "2021-05-29 14:37:40 INFO: Loading: pos\n",
            "2021-05-29 14:37:41 INFO: Loading: lemma\n",
            "2021-05-29 14:37:41 INFO: Loading: depparse\n",
            "2021-05-29 14:37:41 INFO: Loading: ner\n",
            "2021-05-29 14:37:43 INFO: Done loading processors!\n"
          ],
          "name": "stderr"
        }
      ]
    },
    {
      "cell_type": "markdown",
      "metadata": {
        "id": "XzlaEQv5cKvQ"
      },
      "source": [
        "## Read files"
      ]
    },
    {
      "cell_type": "code",
      "metadata": {
        "colab": {
          "base_uri": "https://localhost:8080/"
        },
        "id": "mqhT5lcUhzha",
        "outputId": "7395792c-91a3-4043-c3b8-a651f263213e"
      },
      "source": [
        "with open('blyat.txt', 'r', encoding='utf-8') as f:\n",
        "  f = f.read()\n",
        "corpus1 = f.split('\\n')\n",
        "\n",
        "with open('blyad.txt', 'r', encoding='utf-8') as fl:\n",
        "  fl = fl.read()\n",
        "\n",
        "corpus2 = fl.split('\\n')\n",
        "corpus = corpus1 + corpus2\n",
        "ids = []\n",
        "texts = []\n",
        "\n",
        "for c in corpus:\n",
        "  id = re.findall('(\\d+)#', c)\n",
        "  if id:\n",
        "    ids.append(id[0])\n",
        "    text = re.findall('#####(.+)', c)\n",
        "    if text:\n",
        "      texts.append(text[0])\n",
        "len(ids), len(texts)"
      ],
      "execution_count": null,
      "outputs": [
        {
          "output_type": "execute_result",
          "data": {
            "text/plain": [
              "(77499, 77499)"
            ]
          },
          "metadata": {
            "tags": []
          },
          "execution_count": 8
        }
      ]
    },
    {
      "cell_type": "code",
      "metadata": {
        "colab": {
          "base_uri": "https://localhost:8080/",
          "height": 204
        },
        "id": "wvyTNMtqkMWL",
        "outputId": "8444139c-4ed1-4c56-ff40-c9b71db89f86"
      },
      "source": [
        "df = pd.DataFrame({'user_id': ids, 'comment': texts})\n",
        "df.head(5)"
      ],
      "execution_count": null,
      "outputs": [
        {
          "output_type": "execute_result",
          "data": {
            "text/html": [
              "<div>\n",
              "<style scoped>\n",
              "    .dataframe tbody tr th:only-of-type {\n",
              "        vertical-align: middle;\n",
              "    }\n",
              "\n",
              "    .dataframe tbody tr th {\n",
              "        vertical-align: top;\n",
              "    }\n",
              "\n",
              "    .dataframe thead th {\n",
              "        text-align: right;\n",
              "    }\n",
              "</style>\n",
              "<table border=\"1\" class=\"dataframe\">\n",
              "  <thead>\n",
              "    <tr style=\"text-align: right;\">\n",
              "      <th></th>\n",
              "      <th>user_id</th>\n",
              "      <th>comment</th>\n",
              "    </tr>\n",
              "  </thead>\n",
              "  <tbody>\n",
              "    <tr>\n",
              "      <th>0</th>\n",
              "      <td>384019852</td>\n",
              "      <td>чего блять,животных то в эту хуйню не впутывайте</td>\n",
              "    </tr>\n",
              "    <tr>\n",
              "      <th>1</th>\n",
              "      <td>484456161</td>\n",
              "      <td>[id559572241|Тимур], че блять за хуево боново ...</td>\n",
              "    </tr>\n",
              "    <tr>\n",
              "      <th>2</th>\n",
              "      <td>180077196</td>\n",
              "      <td>Опять Власова приплели?! Да оставьте вы его уж...</td>\n",
              "    </tr>\n",
              "    <tr>\n",
              "      <th>3</th>\n",
              "      <td>325242759</td>\n",
              "      <td>П*утин  Нет блять бл*ять</td>\n",
              "    </tr>\n",
              "    <tr>\n",
              "      <th>4</th>\n",
              "      <td>408270835</td>\n",
              "      <td>[id331273537|Павел], Ты чё,блять,еблан? Как то...</td>\n",
              "    </tr>\n",
              "  </tbody>\n",
              "</table>\n",
              "</div>"
            ],
            "text/plain": [
              "     user_id                                            comment\n",
              "0  384019852   чего блять,животных то в эту хуйню не впутывайте\n",
              "1  484456161  [id559572241|Тимур], че блять за хуево боново ...\n",
              "2  180077196  Опять Власова приплели?! Да оставьте вы его уж...\n",
              "3  325242759                           П*утин  Нет блять бл*ять\n",
              "4  408270835  [id331273537|Павел], Ты чё,блять,еблан? Как то..."
            ]
          },
          "metadata": {
            "tags": []
          },
          "execution_count": 7
        }
      ]
    },
    {
      "cell_type": "code",
      "metadata": {
        "id": "tFDU0_Y7k1IK"
      },
      "source": [
        "def get_left_context(comment):\n",
        "  comment = comment.translate(str.maketrans('', '', string.punctuation))\n",
        "  comment = comment.lower()\n",
        "  lc = re.findall('(.+)блядь', comment)\n",
        "  if lc:\n",
        "    return lc[0]\n",
        "  else:\n",
        "    lc = re.findall('(.+)блять', comment)\n",
        "    if lc:\n",
        "      return lc[0]\n",
        "    else:\n",
        "      return None\n",
        "\n",
        "def get_right_context(comment):\n",
        "  comment = comment.translate(str.maketrans('', '', string.punctuation))\n",
        "  comment = comment.lower()\n",
        "  rc = re.findall('блядь(.+)', comment)\n",
        "  if rc:\n",
        "    return rc[0]\n",
        "  else:\n",
        "    rc = re.findall('(.+)блять', comment)\n",
        "    if rc:\n",
        "      return rc[0]\n",
        "    else:\n",
        "      return None\n"
      ],
      "execution_count": null,
      "outputs": []
    },
    {
      "cell_type": "code",
      "metadata": {
        "id": "uSQA4uQClPPZ"
      },
      "source": [
        "df['left_context'] = df['comment'].apply(get_left_context)"
      ],
      "execution_count": null,
      "outputs": []
    },
    {
      "cell_type": "code",
      "metadata": {
        "id": "rWOTx6rIlihp"
      },
      "source": [
        "df['right_context'] = df['comment'].apply(get_right_context)"
      ],
      "execution_count": null,
      "outputs": []
    },
    {
      "cell_type": "code",
      "metadata": {
        "colab": {
          "base_uri": "https://localhost:8080/",
          "height": 238
        },
        "id": "JpRL-8Welobj",
        "outputId": "0d554d51-b11b-4c5e-b7e8-d2221632439f"
      },
      "source": [
        "df.sample(5)"
      ],
      "execution_count": null,
      "outputs": [
        {
          "output_type": "execute_result",
          "data": {
            "text/html": [
              "<div>\n",
              "<style scoped>\n",
              "    .dataframe tbody tr th:only-of-type {\n",
              "        vertical-align: middle;\n",
              "    }\n",
              "\n",
              "    .dataframe tbody tr th {\n",
              "        vertical-align: top;\n",
              "    }\n",
              "\n",
              "    .dataframe thead th {\n",
              "        text-align: right;\n",
              "    }\n",
              "</style>\n",
              "<table border=\"1\" class=\"dataframe\">\n",
              "  <thead>\n",
              "    <tr style=\"text-align: right;\">\n",
              "      <th></th>\n",
              "      <th>user_id</th>\n",
              "      <th>comment</th>\n",
              "      <th>left_context</th>\n",
              "      <th>right_context</th>\n",
              "    </tr>\n",
              "  </thead>\n",
              "  <tbody>\n",
              "    <tr>\n",
              "      <th>7132</th>\n",
              "      <td>312050982</td>\n",
              "      <td>[id456443729|Jacob], миллиарды лет назад может...</td>\n",
              "      <td>None</td>\n",
              "      <td>None</td>\n",
              "    </tr>\n",
              "    <tr>\n",
              "      <th>2017</th>\n",
              "      <td>617512433</td>\n",
              "      <td>ПХАХАХВХВХААХАХАХ БЛЯДЬ</td>\n",
              "      <td>пхахахвхвхаахахах</td>\n",
              "      <td>None</td>\n",
              "    </tr>\n",
              "    <tr>\n",
              "      <th>2298</th>\n",
              "      <td>217574076</td>\n",
              "      <td>блядь т̛̤͓̙̺ё̡̯̥͖͚͚͎͟͝м̴̸̙̼н̛҉͏̞̻͓а̨̥͍̯͇͔͕̞я͏̟...</td>\n",
              "      <td>None</td>\n",
              "      <td>т̛̤͓̙̺ё̡̯̥͖͚͚͎͟͝м̴̸̙̼н̛҉͏̞̻͓а̨̥͍̯͇͔͕̞я͏̟̞̫̤̭ ...</td>\n",
              "    </tr>\n",
              "    <tr>\n",
              "      <th>4752</th>\n",
              "      <td>406431075</td>\n",
              "      <td>Смерть отца Хабиба - первое поражение Хабиба. ...</td>\n",
              "      <td>смерть отца хабиба  первое поражение хабиба чт...</td>\n",
              "      <td>несёте как вы аще выстроили эту цепочку у себ...</td>\n",
              "    </tr>\n",
              "    <tr>\n",
              "      <th>9911</th>\n",
              "      <td>416314785</td>\n",
              "      <td>Ну послушал я этого уебана и заценил мотораму....</td>\n",
              "      <td>ну послушал я этого уебана и заценил мотораму ...</td>\n",
              "      <td>говно</td>\n",
              "    </tr>\n",
              "  </tbody>\n",
              "</table>\n",
              "</div>"
            ],
            "text/plain": [
              "        user_id  ...                                      right_context\n",
              "7132  312050982  ...                                               None\n",
              "2017  617512433  ...                                               None\n",
              "2298  217574076  ...   т̛̤͓̙̺ё̡̯̥͖͚͚͎͟͝м̴̸̙̼н̛҉͏̞̻͓а̨̥͍̯͇͔͕̞я͏̟̞̫̤̭ ...\n",
              "4752  406431075  ...   несёте как вы аще выстроили эту цепочку у себ...\n",
              "9911  416314785  ...                                              говно\n",
              "\n",
              "[5 rows x 4 columns]"
            ]
          },
          "metadata": {
            "tags": []
          },
          "execution_count": 39
        }
      ]
    },
    {
      "cell_type": "markdown",
      "metadata": {
        "id": "EY96OYDGLk7h"
      },
      "source": [
        "# word2vec"
      ]
    },
    {
      "cell_type": "code",
      "metadata": {
        "colab": {
          "base_uri": "https://localhost:8080/",
          "height": 52
        },
        "id": "Xk966fr5LoKJ",
        "outputId": "f6a1d7d4-b3f5-43f9-f088-8ca1cf939796"
      },
      "source": [
        "corp = ' '.join(corpus)\n",
        "corp = re.sub('#', '', corp)\n",
        "corp = re.sub('\\[.+?\\]', '', corp)\n",
        "corp = corp.lower()\n",
        "corp = re.sub('\\d+', ' ', corp)\n",
        "corp = re.sub('[-*]', '', corp)\n",
        "\n",
        "corp = re.sub('[!\"#$%&\\'()+,./:;<=>?@[\\]^_`{|}~]', ' ', corp)\n",
        "\n",
        "# corp = corp.translate(str.maketrans('', '', string.punctuation))\n",
        "words = re.findall('[А-Яа-я]+', corp)\n",
        "corp = ' '.join(words)\n",
        "corp[:300]"
      ],
      "execution_count": null,
      "outputs": [
        {
          "output_type": "execute_result",
          "data": {
            "application/vnd.google.colaboratory.intrinsic+json": {
              "type": "string"
            },
            "text/plain": [
              "'чего блять животных то в эту хуйню не впутывайте че блять за хуево боново собрание опять власова приплели да оставьте вы его уже блять в покое лет как помер дайте человеку спокойно в земле погнить путин нет блять блять ты ч блять еблан как то что они гдето там купаются относится к менталитету а то ч'"
            ]
          },
          "metadata": {
            "tags": []
          },
          "execution_count": 39
        }
      ]
    },
    {
      "cell_type": "code",
      "metadata": {
        "id": "okeMabdZMmFb"
      },
      "source": [
        "with open('corpus.txt', 'w', encoding='utf-8') as fi:\n",
        "  fi.write(corp)"
      ],
      "execution_count": null,
      "outputs": []
    },
    {
      "cell_type": "code",
      "metadata": {
        "id": "fPwwBWEEM0kA"
      },
      "source": [
        "f = 'corpus.txt'\n",
        "data = gensim.models.word2vec.LineSentence(f)"
      ],
      "execution_count": null,
      "outputs": []
    },
    {
      "cell_type": "code",
      "metadata": {
        "colab": {
          "base_uri": "https://localhost:8080/"
        },
        "id": "uQ9lr6dVM68g",
        "outputId": "a8e3343e-df08-4e65-cbd5-7b4df97ec52b"
      },
      "source": [
        "%time model = gensim.models.Word2Vec(data, size=300, window=9, min_count=2)"
      ],
      "execution_count": null,
      "outputs": [
        {
          "output_type": "stream",
          "text": [
            "CPU times: user 44.2 s, sys: 347 ms, total: 44.6 s\n",
            "Wall time: 28.8 s\n"
          ],
          "name": "stdout"
        }
      ]
    },
    {
      "cell_type": "code",
      "metadata": {
        "colab": {
          "base_uri": "https://localhost:8080/"
        },
        "id": "ZY9aMjZ2NFTd",
        "outputId": "d8e7fe66-acdf-46f2-eebf-7d4fefe532e3"
      },
      "source": [
        "model.init_sims(replace=True)\n",
        "model_path = \"model.bin\"\n",
        "\n",
        "print(\"Saving model...\")\n",
        "model.wv.save_word2vec_format(model_path, binary=True)"
      ],
      "execution_count": null,
      "outputs": [
        {
          "output_type": "stream",
          "text": [
            "Saving model...\n"
          ],
          "name": "stdout"
        }
      ]
    },
    {
      "cell_type": "code",
      "metadata": {
        "colab": {
          "base_uri": "https://localhost:8080/"
        },
        "id": "Jxe1FFFuNRdI",
        "outputId": "071bfb9f-8967-45df-8a95-908f964cd693"
      },
      "source": [
        "len(model.wv.vocab)"
      ],
      "execution_count": null,
      "outputs": [
        {
          "output_type": "execute_result",
          "data": {
            "text/plain": [
              "46414"
            ]
          },
          "metadata": {
            "tags": []
          },
          "execution_count": 76
        }
      ]
    },
    {
      "cell_type": "code",
      "metadata": {
        "colab": {
          "base_uri": "https://localhost:8080/"
        },
        "id": "DFv8zz9bNbZH",
        "outputId": "921f0fe3-386e-4c7f-c73c-255bf4845991"
      },
      "source": [
        "model.wv.most_similar(\"блять\", topn=30)"
      ],
      "execution_count": null,
      "outputs": [
        {
          "output_type": "execute_result",
          "data": {
            "text/plain": [
              "[('блядь', 0.953029453754425),\n",
              " ('ой', 0.8634277582168579),\n",
              " ('админ', 0.8477699756622314),\n",
              " ('фу', 0.8359435796737671),\n",
              " ('ору', 0.8198147416114807),\n",
              " ('пожалуйста', 0.8077038526535034),\n",
              " ('пиздец', 0.8048432469367981),\n",
              " ('блин', 0.803010106086731),\n",
              " ('смешно', 0.8026494383811951),\n",
              " ('жиза', 0.7997477054595947),\n",
              " ('господи', 0.793633222579956),\n",
              " ('да', 0.7832447290420532),\n",
              " ('спасибо', 0.777649998664856),\n",
              " ('боже', 0.7718039751052856),\n",
              " ('ваще', 0.7698826789855957),\n",
              " ('усну', 0.766508162021637),\n",
              " ('байт', 0.763473629951477),\n",
              " ('жожа', 0.7622077465057373),\n",
              " ('объясните', 0.7615460157394409),\n",
              " ('какой', 0.7593280076980591),\n",
              " ('воскрес', 0.7593044638633728),\n",
              " ('ж', 0.7550382018089294),\n",
              " ('теперь', 0.7541475296020508),\n",
              " ('всмысле', 0.7530757188796997),\n",
              " ('гусли', 0.7514474391937256),\n",
              " ('хахахаахахха', 0.7510424852371216),\n",
              " ('апреля', 0.7501664757728577),\n",
              " ('сука', 0.7490440607070923),\n",
              " ('умер', 0.7479289770126343),\n",
              " ('нимагу', 0.7475000619888306)]"
            ]
          },
          "metadata": {
            "tags": []
          },
          "execution_count": 77
        }
      ]
    },
    {
      "cell_type": "code",
      "metadata": {
        "colab": {
          "base_uri": "https://localhost:8080/"
        },
        "id": "ZJ8chMGQlIKH",
        "outputId": "a3d58d3e-4799-4bd8-92ea-82c8df3c6d7b"
      },
      "source": [
        "model.wv.most_similar(\"блядь\", topn=30)"
      ],
      "execution_count": null,
      "outputs": [
        {
          "output_type": "execute_result",
          "data": {
            "text/plain": [
              "[('блять', 0.9530293345451355),\n",
              " ('админ', 0.8685410618782043),\n",
              " ('ой', 0.8377580642700195),\n",
              " ('фу', 0.8260373473167419),\n",
              " ('ору', 0.822340190410614),\n",
              " ('блин', 0.8148708343505859),\n",
              " ('пожалуйста', 0.8085808753967285),\n",
              " ('жиза', 0.8061694502830505),\n",
              " ('господи', 0.8024725317955017),\n",
              " ('пиздец', 0.8015351295471191),\n",
              " ('объясните', 0.801510214805603),\n",
              " ('смешно', 0.8002269268035889),\n",
              " ('байт', 0.7989557981491089),\n",
              " ('клан', 0.7984354496002197),\n",
              " ('всмысле', 0.7950351238250732),\n",
              " ('ваще', 0.7933325171470642),\n",
              " ('умер', 0.7879326939582825),\n",
              " ('боже', 0.7862975597381592),\n",
              " ('эф', 0.7838088870048523),\n",
              " ('мерзость', 0.7835944294929504),\n",
              " ('мемам', 0.7794234156608582),\n",
              " ('хахахаахахха', 0.7790176272392273),\n",
              " ('фото', 0.7776024341583252),\n",
              " ('пришельцы', 0.7774183750152588),\n",
              " ('глухой', 0.7773652076721191),\n",
              " ('противный', 0.776656448841095),\n",
              " ('админы', 0.7763301730155945),\n",
              " ('да', 0.7757611870765686),\n",
              " ('какой', 0.7733303308486938),\n",
              " ('рифмы', 0.7732175588607788)]"
            ]
          },
          "metadata": {
            "tags": []
          },
          "execution_count": 78
        }
      ]
    },
    {
      "cell_type": "code",
      "metadata": {
        "colab": {
          "base_uri": "https://localhost:8080/"
        },
        "id": "kuVvcOxcwyfH",
        "outputId": "e40f6548-422e-400b-d238-f8ffa650094b"
      },
      "source": [
        "model.wv.words_closer_than(\"блядь\", \"блять\")"
      ],
      "execution_count": null,
      "outputs": [
        {
          "output_type": "execute_result",
          "data": {
            "text/plain": [
              "[]"
            ]
          },
          "metadata": {
            "tags": []
          },
          "execution_count": 79
        }
      ]
    },
    {
      "cell_type": "markdown",
      "metadata": {
        "id": "crfM3PQvcewF"
      },
      "source": [
        "В корпусе нет более семантически близких слов"
      ]
    },
    {
      "cell_type": "code",
      "metadata": {
        "colab": {
          "base_uri": "https://localhost:8080/"
        },
        "id": "eNsuXLyZ1lgZ",
        "outputId": "59f39d8c-627e-4830-fa60-7ff63a68cfda"
      },
      "source": [
        "model.wv.similarity('блядь', 'шлюха')"
      ],
      "execution_count": null,
      "outputs": [
        {
          "output_type": "execute_result",
          "data": {
            "text/plain": [
              "0.51888794"
            ]
          },
          "metadata": {
            "tags": []
          },
          "execution_count": 85
        }
      ]
    },
    {
      "cell_type": "code",
      "metadata": {
        "colab": {
          "base_uri": "https://localhost:8080/"
        },
        "id": "2NmjkeNE1uob",
        "outputId": "10a962a3-61e5-4460-bcc0-b78ce1f02381"
      },
      "source": [
        "model.wv.similarity('блять', 'шлюха')"
      ],
      "execution_count": null,
      "outputs": [
        {
          "output_type": "execute_result",
          "data": {
            "text/plain": [
              "0.4612355"
            ]
          },
          "metadata": {
            "tags": []
          },
          "execution_count": 86
        }
      ]
    },
    {
      "cell_type": "code",
      "metadata": {
        "id": "Xcz6_1Ycd-q-"
      },
      "source": [
        "uploaded = files.upload()"
      ],
      "execution_count": null,
      "outputs": []
    },
    {
      "cell_type": "code",
      "metadata": {
        "id": "SLwfbVlKeAMj"
      },
      "source": [
        "df_meta = pd.read_csv('projectt.csv', sep='\\t')"
      ],
      "execution_count": null,
      "outputs": []
    },
    {
      "cell_type": "code",
      "metadata": {
        "id": "e6LTHT_8eBtE"
      },
      "source": [
        "def blyadt(text):\n",
        "  blyat = re.findall('блять', text.lower())\n",
        "  blyad = re.findall('блядь', text.lower())\n",
        "  if blyat and blyad:\n",
        "    return 'both'\n",
        "  elif blyat:\n",
        "    return 'блять'\n",
        "  elif blyad:\n",
        "    return 'блядь'\n",
        "  else:\n",
        "    return None"
      ],
      "execution_count": null,
      "outputs": []
    },
    {
      "cell_type": "code",
      "metadata": {
        "id": "akI9OwO5eDPv"
      },
      "source": [
        "df_meta['type'] = df_meta['Tetx'].progress_apply(blyadt)"
      ],
      "execution_count": null,
      "outputs": []
    },
    {
      "cell_type": "code",
      "metadata": {
        "colab": {
          "base_uri": "https://localhost:8080/",
          "height": 204
        },
        "id": "uDOq29LDeE13",
        "outputId": "8490108c-448c-425c-8a57-41546b2cdfd4"
      },
      "source": [
        "df_meta.sample(5)"
      ],
      "execution_count": null,
      "outputs": [
        {
          "output_type": "execute_result",
          "data": {
            "text/html": [
              "<div>\n",
              "<style scoped>\n",
              "    .dataframe tbody tr th:only-of-type {\n",
              "        vertical-align: middle;\n",
              "    }\n",
              "\n",
              "    .dataframe tbody tr th {\n",
              "        vertical-align: top;\n",
              "    }\n",
              "\n",
              "    .dataframe thead th {\n",
              "        text-align: right;\n",
              "    }\n",
              "</style>\n",
              "<table border=\"1\" class=\"dataframe\">\n",
              "  <thead>\n",
              "    <tr style=\"text-align: right;\">\n",
              "      <th></th>\n",
              "      <th>Id</th>\n",
              "      <th>Tetx</th>\n",
              "      <th>City</th>\n",
              "      <th>Sex</th>\n",
              "      <th>Bdate</th>\n",
              "      <th>type</th>\n",
              "    </tr>\n",
              "  </thead>\n",
              "  <tbody>\n",
              "    <tr>\n",
              "      <th>15508</th>\n",
              "      <td>545734880</td>\n",
              "      <td>нет блять  родилаона жирнодей</td>\n",
              "      <td>Surgut</td>\n",
              "      <td>2</td>\n",
              "      <td>22.12.2002</td>\n",
              "      <td>блять</td>\n",
              "    </tr>\n",
              "    <tr>\n",
              "      <th>8574</th>\n",
              "      <td>646325235</td>\n",
              "      <td>[id153949405|Александр], жирная блядина, разло...</td>\n",
              "      <td>-</td>\n",
              "      <td>1</td>\n",
              "      <td>29.3.1997</td>\n",
              "      <td>None</td>\n",
              "    </tr>\n",
              "    <tr>\n",
              "      <th>74513</th>\n",
              "      <td>404974946</td>\n",
              "      <td>[id297868401|Федор], и тут ты доебался ну что ...</td>\n",
              "      <td>Dmitrov</td>\n",
              "      <td>1</td>\n",
              "      <td>14.12.1999</td>\n",
              "      <td>блять</td>\n",
              "    </tr>\n",
              "    <tr>\n",
              "      <th>49057</th>\n",
              "      <td>363160221</td>\n",
              "      <td>А там блять только ружья</td>\n",
              "      <td>-</td>\n",
              "      <td>2</td>\n",
              "      <td>-</td>\n",
              "      <td>блять</td>\n",
              "    </tr>\n",
              "    <tr>\n",
              "      <th>26026</th>\n",
              "      <td>131961980</td>\n",
              "      <td>Кому это надо... треки на 1.5 минуты блять? я ...</td>\n",
              "      <td>Krasnoyarsk</td>\n",
              "      <td>2</td>\n",
              "      <td>27.11.1995</td>\n",
              "      <td>блять</td>\n",
              "    </tr>\n",
              "  </tbody>\n",
              "</table>\n",
              "</div>"
            ],
            "text/plain": [
              "              Id  ...   type\n",
              "15508  545734880  ...  блять\n",
              "8574   646325235  ...   None\n",
              "74513  404974946  ...  блять\n",
              "49057  363160221  ...  блять\n",
              "26026  131961980  ...  блять\n",
              "\n",
              "[5 rows x 6 columns]"
            ]
          },
          "metadata": {
            "tags": []
          },
          "execution_count": 272
        }
      ]
    },
    {
      "cell_type": "code",
      "metadata": {
        "colab": {
          "base_uri": "https://localhost:8080/"
        },
        "id": "pvLHOMBDeKcH",
        "outputId": "873a0f5b-2b46-4700-d526-ba6ceb22259a"
      },
      "source": [
        "blyat_df = df_meta[df_meta['type'] == 'блять']\n",
        "blyad_df = df_meta[df_meta['type'] == 'блядь']\n",
        "print(blyat_df.shape, blyad_df.shape)"
      ],
      "execution_count": null,
      "outputs": [
        {
          "output_type": "stream",
          "text": [
            "(66516, 6) (10084, 6)\n"
          ],
          "name": "stdout"
        }
      ]
    },
    {
      "cell_type": "markdown",
      "metadata": {
        "id": "9UbPmed1kX-e"
      },
      "source": [
        "# TM"
      ]
    },
    {
      "cell_type": "code",
      "metadata": {
        "colab": {
          "base_uri": "https://localhost:8080/"
        },
        "id": "PECDklijkb52",
        "outputId": "6544ee53-b574-4b0c-c44b-02244001a51f"
      },
      "source": [
        "!pip install pymorphy2"
      ],
      "execution_count": null,
      "outputs": [
        {
          "output_type": "stream",
          "text": [
            "Collecting pymorphy2\n",
            "\u001b[?25l  Downloading https://files.pythonhosted.org/packages/07/57/b2ff2fae3376d4f3c697b9886b64a54b476e1a332c67eee9f88e7f1ae8c9/pymorphy2-0.9.1-py3-none-any.whl (55kB)\n",
            "\r\u001b[K     |██████                          | 10kB 17.5MB/s eta 0:00:01\r\u001b[K     |███████████▉                    | 20kB 22.3MB/s eta 0:00:01\r\u001b[K     |█████████████████▊              | 30kB 10.8MB/s eta 0:00:01\r\u001b[K     |███████████████████████▋        | 40kB 8.5MB/s eta 0:00:01\r\u001b[K     |█████████████████████████████▌  | 51kB 5.4MB/s eta 0:00:01\r\u001b[K     |████████████████████████████████| 61kB 3.6MB/s \n",
            "\u001b[?25hRequirement already satisfied: docopt>=0.6 in /usr/local/lib/python3.7/dist-packages (from pymorphy2) (0.6.2)\n",
            "Collecting dawg-python>=0.7.1\n",
            "  Downloading https://files.pythonhosted.org/packages/6a/84/ff1ce2071d4c650ec85745766c0047ccc3b5036f1d03559fd46bb38b5eeb/DAWG_Python-0.7.2-py2.py3-none-any.whl\n",
            "Collecting pymorphy2-dicts-ru<3.0,>=2.4\n",
            "\u001b[?25l  Downloading https://files.pythonhosted.org/packages/3a/79/bea0021eeb7eeefde22ef9e96badf174068a2dd20264b9a378f2be1cdd9e/pymorphy2_dicts_ru-2.4.417127.4579844-py2.py3-none-any.whl (8.2MB)\n",
            "\u001b[K     |████████████████████████████████| 8.2MB 9.2MB/s \n",
            "\u001b[?25hInstalling collected packages: dawg-python, pymorphy2-dicts-ru, pymorphy2\n",
            "Successfully installed dawg-python-0.7.2 pymorphy2-0.9.1 pymorphy2-dicts-ru-2.4.417127.4579844\n"
          ],
          "name": "stdout"
        }
      ]
    },
    {
      "cell_type": "code",
      "metadata": {
        "colab": {
          "base_uri": "https://localhost:8080/"
        },
        "id": "3a_uv4TwkZ89",
        "outputId": "26811035-8e8e-44d3-f4e8-f50009678366"
      },
      "source": [
        "from sklearn.feature_extraction.text import TfidfVectorizer\n",
        "from sklearn.decomposition import NMF\n",
        "\n",
        "from pymorphy2 import MorphAnalyzer\n",
        "morph = MorphAnalyzer()\n",
        "\n",
        "import nltk\n",
        "nltk.download('stopwords')\n",
        "from nltk.corpus import stopwords\n",
        "from google.colab import files"
      ],
      "execution_count": null,
      "outputs": [
        {
          "output_type": "stream",
          "text": [
            "[nltk_data] Downloading package stopwords to /root/nltk_data...\n",
            "[nltk_data]   Unzipping corpora/stopwords.zip.\n"
          ],
          "name": "stdout"
        }
      ]
    },
    {
      "cell_type": "code",
      "metadata": {
        "id": "fWkDzXEXka39"
      },
      "source": [
        "stopwords_ = stopwords.words('russian')\n",
        "stopwords_.extend(['я', 'ты', 'он', 'она', 'твой', 'мой', 'они', 'это', 'наш', 'ваш',\n",
        "                   'весь', 'все', 'свой', 'всё', 'ещё', 'оно', 'её', 'нибыть', 'лишь', 'очень', 'пусть'])"
      ],
      "execution_count": null,
      "outputs": []
    },
    {
      "cell_type": "code",
      "metadata": {
        "id": "POtQDbg9kkfN"
      },
      "source": [
        "def preprocess_text(texts_list):\n",
        "  texts_list = [t for t in texts_list if t]   # getting rid of empty instances\n",
        "  texts = [re.sub('\\d+', '', each) for each in texts_list] # getting rid of numbers\n",
        "  texts = [re.sub('[A-Za-z]', '', each) for each in texts]   # getting rid of links\n",
        "\n",
        "  texts = [re.sub('\\[.+?\\]', ' ', each) for each in texts] \n",
        "  texts = [re.sub('#', ' ', each) for each in texts] \n",
        "\n",
        "  texts = [t for t in texts if t]   # getting rid of empty instances\n",
        "\n",
        "  new_texts = []\n",
        "  for t in range(len(texts)):\n",
        "    new_words = []\n",
        "    new_text = re.findall('\\w+', texts[t])\n",
        "    for w in range(len(new_text)):\n",
        "      new_words.append(morph.parse(new_text[w])[0].normal_form)\n",
        "    n_text = \" \".join(new_words)\n",
        "    new_texts.append(n_text)\n",
        "  return new_texts"
      ],
      "execution_count": null,
      "outputs": []
    },
    {
      "cell_type": "code",
      "metadata": {
        "id": "7AkdUpkBlGJa"
      },
      "source": [
        "def model(texts):   # defining the function that will be applied to the dataframe to get results for each meter\n",
        "  preprocessed_texts = preprocess_text(texts)  # lemmatization etc.\n",
        "\n",
        "  # setting up the model:\n",
        "  tfidf_vectorizer = TfidfVectorizer(max_df=0.6, min_df=0.01, stop_words=stopwords_)\n",
        "  tfidf = tfidf_vectorizer.fit_transform(preprocessed_texts)\n",
        "  tfidf_feature_names = tfidf_vectorizer.get_feature_names()\n",
        "  nmf = NMF(n_components=10).fit(tfidf)\n",
        "  out = ''\n",
        "  for idx, topic in enumerate(nmf.components_):\n",
        "    out += (\" \".join(tfidf_feature_names[i] for i in topic.argsort()[:-10 - 1:-1]))\n",
        "    out += '\\n'\n",
        "  return out"
      ],
      "execution_count": null,
      "outputs": []
    },
    {
      "cell_type": "code",
      "metadata": {
        "colab": {
          "base_uri": "https://localhost:8080/"
        },
        "id": "C8zrgS01lS-f",
        "outputId": "dba7f4f1-04ee-4a2c-cfdb-cadd7c556cfd"
      },
      "source": [
        "print(model(blyad_df['Tetx']))"
      ],
      "execution_count": null,
      "outputs": [
        {
          "output_type": "stream",
          "text": [
            "нахуй идти пойти бля ребёнок знать хуй должный почему лезть\n",
            "сука лезть дебил бля говно пидор идти знать почему мем\n",
            "человек мочь который вообще знать хотеть год говорить хороший хуйня\n",
            "фу говно мем смотреть баба жить бля бог делать ребёнок\n",
            "че мем хуйня делать думать писать нести коммент понять рот\n",
            "просто мочь нести говно знать видеть вниманиеблядь слушать понимать большой\n",
            "ёбаный рот дебил лезть хуй делать говно хотеть ненавидеть бля\n",
            "пиздец хуйня год пост большой жопа вообще думать ебать коммент\n",
            "нихуй понятно мем знать понять идти заебали пост бля никто\n",
            "тупой ненавидеть мать пойти думать говно админ понимать женщина заебали\n",
            "\n"
          ],
          "name": "stdout"
        }
      ]
    },
    {
      "cell_type": "code",
      "metadata": {
        "colab": {
          "base_uri": "https://localhost:8080/"
        },
        "id": "VaINjnaDlmxK",
        "outputId": "408f8187-ed3e-40b8-dab4-8d6b2db67fb8"
      },
      "source": [
        "print(model(blyat_df['Tetx']))"
      ],
      "execution_count": null,
      "outputs": [
        {
          "output_type": "stream",
          "text": [
            "нахуй идти пойти ёбаный ебать бля заебали похуй давать ой\n",
            "сука ёбаный тупой рот заебали бля ебать хуй почему админ\n",
            "человек который жизнь должный жить понимать мир нужно страна иметь\n",
            "че хуйня давать пост мем админ начать паблик написать бля\n",
            "фу ёбаный говно хуйня смотреть стать админ писать ребёнок ой\n",
            "просто сказать слово нужно смотреть хотеть ебать думать никто большой\n",
            "мочь понять сказать сделать написать жизнь слово ребёнок почему никто\n",
            "оскорблять начать никто хотеть иметь давать нужно сказать слово понимать\n",
            "пиздец хуйня жить бля ёбаный ебать ой хуй нихуй тупой\n",
            "который вообще год знать хороший говорить хуйня делать тупой ёбаный\n",
            "\n"
          ],
          "name": "stdout"
        }
      ]
    },
    {
      "cell_type": "markdown",
      "metadata": {
        "id": "f_StFGPT2z3A"
      },
      "source": [
        "# Визуализация PCA"
      ]
    },
    {
      "cell_type": "code",
      "metadata": {
        "id": "xy2BJdqe2zZp"
      },
      "source": [
        "from sklearn.decomposition import PCA\n",
        "import matplotlib.pyplot as plt\n",
        "%matplotlib inline"
      ],
      "execution_count": null,
      "outputs": []
    },
    {
      "cell_type": "code",
      "metadata": {
        "colab": {
          "base_uri": "https://localhost:8080/"
        },
        "id": "dxL6GfY525R5",
        "outputId": "d7671803-9214-4509-9cf9-c40e41e952ca"
      },
      "source": [
        "words = ['блять', 'блядь', 'шлюха', 'еблан', 'сука', 'ебать', 'пизда', 'пидорас', 'говно', \n",
        "         'уебок', 'уебище', 'хуй', 'шалава', 'прошмандовка', 'манда', 'елда', 'нахуй', \n",
        "         'ебаный', 'пиздец']\n",
        "X = model[words]"
      ],
      "execution_count": null,
      "outputs": [
        {
          "output_type": "stream",
          "text": [
            "/usr/local/lib/python3.7/dist-packages/ipykernel_launcher.py:4: DeprecationWarning: Call to deprecated `__getitem__` (Method will be removed in 4.0.0, use self.wv.__getitem__() instead).\n",
            "  after removing the cwd from sys.path.\n"
          ],
          "name": "stderr"
        }
      ]
    },
    {
      "cell_type": "code",
      "metadata": {
        "id": "wG9zZbLw3PdM"
      },
      "source": [
        "pca = PCA(n_components=2)\n",
        "coords = pca.fit_transform(X)"
      ],
      "execution_count": null,
      "outputs": []
    },
    {
      "cell_type": "code",
      "metadata": {
        "colab": {
          "base_uri": "https://localhost:8080/",
          "height": 281
        },
        "id": "KbZoav-x3SzV",
        "outputId": "e9449166-3e2e-44ec-ec65-c088b4e367f5"
      },
      "source": [
        "plt.scatter(coords[:, 0], coords[:, 1], color='red')\n",
        "plt.title('Words')\n",
        "\n",
        "for i, word in enumerate(words):\n",
        "    plt.annotate(word, xy=(coords[i, 0], coords[i, 1]))\n",
        "plt.show()"
      ],
      "execution_count": null,
      "outputs": [
        {
          "output_type": "display_data",
          "data": {
            "image/png": "[encoded data removed]",
            "text/plain": [
              "<Figure size 432x288 with 1 Axes>"
            ]
          },
          "metadata": {
            "tags": [],
            "needs_background": "light"
          }
        }
      ]
    },
    {
      "cell_type": "markdown",
      "metadata": {
        "id": "kBvCXddvE_wo"
      },
      "source": [
        "# Metadata"
      ]
    },
    {
      "cell_type": "markdown",
      "metadata": {
        "id": "eNe9-q5ELGUy"
      },
      "source": [
        "## Сравнение по полу автора"
      ]
    },
    {
      "cell_type": "code",
      "metadata": {
        "colab": {
          "base_uri": "https://localhost:8080/"
        },
        "id": "dDYwdo77HQa-",
        "outputId": "640e0659-8d29-4b41-ce0d-7fc05282a7aa"
      },
      "source": [
        "df_women = df_meta[df_meta['Sex'] == 2]\n",
        "df_men = df_meta[df_meta['Sex'] == 1]"
      ],
      "execution_count": null,
      "outputs": [
        {
          "output_type": "execute_result",
          "data": {
            "text/plain": [
              "(61767, 6)"
            ]
          },
          "metadata": {
            "tags": []
          },
          "execution_count": 166
        }
      ]
    },
    {
      "cell_type": "code",
      "metadata": {
        "colab": {
          "base_uri": "https://localhost:8080/"
        },
        "id": "smvUVM98Hmar",
        "outputId": "2c9d7e8f-c3dc-47c4-8558-a5c6a9fe66ed"
      },
      "source": [
        "print('Men: \\nNumber of comments with \"блять\": {}, number of comments with \"блядь\": {}\\n'.format(df_men[df_men['type'] == 'блять'].shape[0], df_men[df_men['type'] == 'блядь'].shape[0]))\n",
        "print('Women: \\nNumber of comments with \"блять\": {}, number of comments with \"блядь\": {}'.format(df_women[df_women['type'] == 'блять'].shape[0], df_women[df_women['type'] == 'блядь'].shape[0]))"
      ],
      "execution_count": null,
      "outputs": [
        {
          "output_type": "stream",
          "text": [
            "Men: \n",
            "Number of comments with \"блять\": 15622, number of comments with \"блядь\": 1738\n",
            "\n",
            "Women: \n",
            "Number of comments with \"блять\": 50880, number of comments with \"блядь\": 8345\n"
          ],
          "name": "stdout"
        }
      ]
    },
    {
      "cell_type": "code",
      "metadata": {
        "colab": {
          "base_uri": "https://localhost:8080/"
        },
        "id": "AYJ3zSTgK8MK",
        "outputId": "a4082a29-0902-497d-aa16-4de00b6fcd8a"
      },
      "source": [
        "women_corp = ' '.join(df_women['Tetx'])\n",
        "men_corp = ' '.join(df_men['Tetx'])\n",
        "len(women_corp), len(men_corp)"
      ],
      "execution_count": null,
      "outputs": [
        {
          "output_type": "execute_result",
          "data": {
            "text/plain": [
              "(7089492, 1827266)"
            ]
          },
          "metadata": {
            "tags": []
          },
          "execution_count": 180
        }
      ]
    },
    {
      "cell_type": "code",
      "metadata": {
        "colab": {
          "base_uri": "https://localhost:8080/",
          "height": 52
        },
        "id": "qT_pPd9bNLuf",
        "outputId": "aa11fd5a-67c6-4085-95bb-72ebd75e245c"
      },
      "source": [
        "women_corp[:300]"
      ],
      "execution_count": null,
      "outputs": [
        {
          "output_type": "execute_result",
          "data": {
            "application/vnd.google.colaboratory.intrinsic+json": {
              "type": "string"
            },
            "text/plain": [
              "'Марсианка блядь Дорогие бляди, у кого есть казлы имеющие проблемы с алкоголем, Я могу помочь вам. есть одно замечательное средство, лично проверенное моим казлом, за 3 недели отпоила и теперь никакого алкоголя. Кому интересно, Я подробнее написала у себЯ на страничке, заходите смотрите Просто больши'"
            ]
          },
          "metadata": {
            "tags": []
          },
          "execution_count": 181
        }
      ]
    },
    {
      "cell_type": "code",
      "metadata": {
        "colab": {
          "base_uri": "https://localhost:8080/",
          "height": 52
        },
        "id": "vOTDKbVrLdj0",
        "outputId": "311d0aa8-cc91-4d28-e1c1-c4eeefcf36e2"
      },
      "source": [
        "women_corp = re.sub('#', '', women_corp)\n",
        "women_corp = re.sub('\\[.+?\\]', '', women_corp)\n",
        "women_corp = women_corp.lower()\n",
        "women_corp = re.sub('\\d+', ' ', women_corp)\n",
        "women_corp = re.sub('[-*]', '', women_corp)\n",
        "\n",
        "women_corp = re.sub('[!\"#$%&\\'()+,./:;<=>?@[\\]^_`{|}~]', ' ', women_corp)\n",
        "\n",
        "words = re.findall('[А-Яа-я]+', women_corp)\n",
        "women_corp = ' '.join(words)\n",
        "women_corp[:300]"
      ],
      "execution_count": null,
      "outputs": [
        {
          "output_type": "execute_result",
          "data": {
            "application/vnd.google.colaboratory.intrinsic+json": {
              "type": "string"
            },
            "text/plain": [
              "'марсианка блядь дорогие бляди у кого есть казлы имеющие проблемы с алкоголем я могу помочь вам есть одно замечательное средство лично проверенное моим казлом за недели отпоила и теперь никакого алкоголя кому интересно я подробнее написала у себя на страничке заходите смотрите просто большинство муда'"
            ]
          },
          "metadata": {
            "tags": []
          },
          "execution_count": 182
        }
      ]
    },
    {
      "cell_type": "code",
      "metadata": {
        "colab": {
          "base_uri": "https://localhost:8080/",
          "height": 52
        },
        "id": "HRhpnGVfM7hH",
        "outputId": "8758c646-0572-45ab-de79-1f85f15de6c7"
      },
      "source": [
        "men_corp = re.sub('#', '', men_corp)\n",
        "men_corp = re.sub('\\[.+?\\]', '', men_corp)\n",
        "men_corp = men_corp.lower()\n",
        "men_corp = re.sub('\\d+', ' ', men_corp)\n",
        "men_corp = re.sub('[-*]', '', men_corp)\n",
        "\n",
        "men_corp = re.sub('[!\"#$%&\\'()+,./:;<=>?@[\\]^_`{|}~]', ' ', men_corp)\n",
        "\n",
        "words = re.findall('[А-Яа-я]+', men_corp)\n",
        "men_corp = ' '.join(words)\n",
        "men_corp[:300]"
      ],
      "execution_count": null,
      "outputs": [
        {
          "output_type": "execute_result",
          "data": {
            "application/vnd.google.colaboratory.intrinsic+json": {
              "type": "string"
            },
            "text/plain": [
              "'сколько агрессии даешь в задницу ты а блядь я ну да что ж тебе еще остается бедолага бля я на первом курсе ездила с огромной хуевиной деревянным планшетом размер см на в чехле рост у меня был и эта хуйня мне была почти по пояс в другой руке сумка и коробище с макетом мне очень редко место уступали я'"
            ]
          },
          "metadata": {
            "tags": []
          },
          "execution_count": 183
        }
      ]
    },
    {
      "cell_type": "code",
      "metadata": {
        "id": "xKL7KNnvNUli"
      },
      "source": [
        "with open('women_corpus.txt', 'w', encoding='utf-8') as fi_wo:\n",
        "  fi_wo.write(women_corp)\n",
        "with open('men_corpus.txt', 'w', encoding='utf-8') as fi_me:\n",
        "  fi_me.write(men_corp)"
      ],
      "execution_count": null,
      "outputs": []
    },
    {
      "cell_type": "code",
      "metadata": {
        "id": "CaagzjqfNfM5"
      },
      "source": [
        "f1 = 'women_corpus.txt'\n",
        "data_women = gensim.models.word2vec.LineSentence(f1)\n",
        "f2 = 'men_corpus.txt'\n",
        "data_men = gensim.models.word2vec.LineSentence(f2)"
      ],
      "execution_count": null,
      "outputs": []
    },
    {
      "cell_type": "code",
      "metadata": {
        "colab": {
          "base_uri": "https://localhost:8080/"
        },
        "id": "qzjqNohYNrkZ",
        "outputId": "a055e1f8-27b1-46d2-f10d-1120b328f773"
      },
      "source": [
        "%time model_women = gensim.models.Word2Vec(data_women, size=300, window=9, min_count=2)"
      ],
      "execution_count": null,
      "outputs": [
        {
          "output_type": "stream",
          "text": [
            "CPU times: user 39.2 s, sys: 282 ms, total: 39.5 s\n",
            "Wall time: 25.3 s\n"
          ],
          "name": "stdout"
        }
      ]
    },
    {
      "cell_type": "code",
      "metadata": {
        "colab": {
          "base_uri": "https://localhost:8080/"
        },
        "id": "fT1VjdIqNzBc",
        "outputId": "8325b4e9-7df3-4b9c-d601-ea47f10bdd9f"
      },
      "source": [
        "%time model_men = gensim.models.Word2Vec(data_men, size=300, window=9, min_count=2)"
      ],
      "execution_count": null,
      "outputs": [
        {
          "output_type": "stream",
          "text": [
            "CPU times: user 9.75 s, sys: 107 ms, total: 9.85 s\n",
            "Wall time: 6.82 s\n"
          ],
          "name": "stdout"
        }
      ]
    },
    {
      "cell_type": "code",
      "metadata": {
        "colab": {
          "base_uri": "https://localhost:8080/"
        },
        "id": "0m3pv2WmN5zU",
        "outputId": "38bfa865-f024-4f5d-ce01-e2b0df722440"
      },
      "source": [
        "model_women.init_sims(replace=True)\n",
        "model_women_path = \"model_women.bin\"\n",
        "\n",
        "print(\"Saving model for women...\")\n",
        "model_women.wv.save_word2vec_format(model_women_path, binary=True)"
      ],
      "execution_count": null,
      "outputs": [
        {
          "output_type": "stream",
          "text": [
            "Saving model for women...\n"
          ],
          "name": "stdout"
        }
      ]
    },
    {
      "cell_type": "code",
      "metadata": {
        "colab": {
          "base_uri": "https://localhost:8080/"
        },
        "id": "FCYj119aN-en",
        "outputId": "4321eb0b-3468-417d-f60c-61451c0155f9"
      },
      "source": [
        "model_men.init_sims(replace=True)\n",
        "model_men_path = \"model_men.bin\"\n",
        "\n",
        "print(\"Saving model for men...\")\n",
        "model_men.wv.save_word2vec_format(model_men_path, binary=True)"
      ],
      "execution_count": null,
      "outputs": [
        {
          "output_type": "stream",
          "text": [
            "Saving model for men...\n"
          ],
          "name": "stdout"
        }
      ]
    },
    {
      "cell_type": "code",
      "metadata": {
        "colab": {
          "base_uri": "https://localhost:8080/"
        },
        "id": "2j9_I6iNONDW",
        "outputId": "eae07617-1ff4-4836-807b-5caa33ebaf19"
      },
      "source": [
        "model_women.wv.similarity('блядь', 'блять')"
      ],
      "execution_count": null,
      "outputs": [
        {
          "output_type": "execute_result",
          "data": {
            "text/plain": [
              "0.94524956"
            ]
          },
          "metadata": {
            "tags": []
          },
          "execution_count": 204
        }
      ]
    },
    {
      "cell_type": "code",
      "metadata": {
        "colab": {
          "base_uri": "https://localhost:8080/"
        },
        "id": "IP08IMDRODZC",
        "outputId": "33a53971-9747-4337-cac5-535b7a5caf94"
      },
      "source": [
        "model_men.wv.similarity('блядь', 'блять')"
      ],
      "execution_count": null,
      "outputs": [
        {
          "output_type": "execute_result",
          "data": {
            "text/plain": [
              "0.9898645"
            ]
          },
          "metadata": {
            "tags": []
          },
          "execution_count": 205
        }
      ]
    },
    {
      "cell_type": "code",
      "metadata": {
        "colab": {
          "base_uri": "https://localhost:8080/"
        },
        "id": "8mHPjbiLOI0w",
        "outputId": "58c8776f-5459-4bf8-f296-18b9273bc0cd"
      },
      "source": [
        "model_women.wv.most_similar(\"блядь\", topn=10)"
      ],
      "execution_count": null,
      "outputs": [
        {
          "output_type": "execute_result",
          "data": {
            "text/plain": [
              "[('блять', 0.945249617099762),\n",
              " ('админ', 0.9017140865325928),\n",
              " ('фу', 0.8698807954788208),\n",
              " ('удаляет', 0.8612380623817444),\n",
              " ('панчи', 0.8591217994689941),\n",
              " ('тойво', 0.8575912714004517),\n",
              " ('ой', 0.8574986457824707),\n",
              " ('отдашься', 0.8538258075714111),\n",
              " ('плез', 0.849617063999176),\n",
              " ('постирония', 0.8490432500839233)]"
            ]
          },
          "metadata": {
            "tags": []
          },
          "execution_count": 206
        }
      ]
    },
    {
      "cell_type": "code",
      "metadata": {
        "colab": {
          "base_uri": "https://localhost:8080/"
        },
        "id": "7QY42u2mO8in",
        "outputId": "28f47707-e5ef-46f3-c585-19e12f74425e"
      },
      "source": [
        "model_women.wv.most_similar('блять', topn=10)"
      ],
      "execution_count": null,
      "outputs": [
        {
          "output_type": "execute_result",
          "data": {
            "text/plain": [
              "[('блядь', 0.945249617099762),\n",
              " ('админ', 0.8736746311187744),\n",
              " ('ой', 0.8676275610923767),\n",
              " ('фу', 0.8665794134140015),\n",
              " ('пустят', 0.8431378602981567),\n",
              " ('дио', 0.8353320360183716),\n",
              " ('пиджак', 0.8263695240020752),\n",
              " ('развидеть', 0.8248611092567444),\n",
              " ('пиздец', 0.8222665190696716),\n",
              " ('гусли', 0.8212090730667114)]"
            ]
          },
          "metadata": {
            "tags": []
          },
          "execution_count": 207
        }
      ]
    },
    {
      "cell_type": "code",
      "metadata": {
        "colab": {
          "base_uri": "https://localhost:8080/"
        },
        "id": "g8VHnKVDPASr",
        "outputId": "32a2464b-0bfb-47d3-a1d9-d16fc12e0fba"
      },
      "source": [
        "model_men.wv.most_similar(\"блядь\", topn=10)"
      ],
      "execution_count": null,
      "outputs": [
        {
          "output_type": "execute_result",
          "data": {
            "text/plain": [
              "[('сука', 0.9997944235801697),\n",
              " ('спойлер', 0.9988818764686584),\n",
              " ('че', 0.9985239505767822),\n",
              " ('пиздец', 0.9984306693077087),\n",
              " ('ела', 0.9981473684310913),\n",
              " ('черножопый', 0.9966488480567932),\n",
              " ('исполняете', 0.996501088142395),\n",
              " ('тук', 0.9961432814598083),\n",
              " ('издеваетесь', 0.9957300424575806),\n",
              " ('происходило', 0.9957165718078613)]"
            ]
          },
          "metadata": {
            "tags": []
          },
          "execution_count": 208
        }
      ]
    },
    {
      "cell_type": "code",
      "metadata": {
        "colab": {
          "base_uri": "https://localhost:8080/"
        },
        "id": "vRJ2gAEePEIR",
        "outputId": "04a29bed-bef9-451c-8da1-1c2f102de5de"
      },
      "source": [
        "model_men.wv.most_similar('блять', topn=10)"
      ],
      "execution_count": null,
      "outputs": [
        {
          "output_type": "execute_result",
          "data": {
            "text/plain": [
              "[('фу', 0.9983845949172974),\n",
              " ('нахуй', 0.9976086020469666),\n",
              " ('украине', 0.9942351579666138),\n",
              " ('голосину', 0.9942163228988647),\n",
              " ('че', 0.993499755859375),\n",
              " ('даша', 0.9934051036834717),\n",
              " ('годно', 0.9929912686347961),\n",
              " ('ела', 0.9922449588775635),\n",
              " ('овощ', 0.990668535232544),\n",
              " ('происходило', 0.9906144142150879)]"
            ]
          },
          "metadata": {
            "tags": []
          },
          "execution_count": 209
        }
      ]
    },
    {
      "cell_type": "markdown",
      "metadata": {
        "id": "URqSEOzDP-46"
      },
      "source": [
        "## Сравнение по возрастным группам"
      ]
    },
    {
      "cell_type": "code",
      "metadata": {
        "id": "K5_dHjlbSH3J"
      },
      "source": [
        "import datetime\n",
        "from dateutil.relativedelta import relativedelta"
      ],
      "execution_count": null,
      "outputs": []
    },
    {
      "cell_type": "code",
      "metadata": {
        "colab": {
          "base_uri": "https://localhost:8080/",
          "height": 359
        },
        "id": "0MfhzMaWPUXK",
        "outputId": "e5716ac1-4b3d-495a-b1f4-2c2acf6e2614"
      },
      "source": [
        "df_meta.sample(10)"
      ],
      "execution_count": null,
      "outputs": [
        {
          "output_type": "execute_result",
          "data": {
            "text/html": [
              "<div>\n",
              "<style scoped>\n",
              "    .dataframe tbody tr th:only-of-type {\n",
              "        vertical-align: middle;\n",
              "    }\n",
              "\n",
              "    .dataframe tbody tr th {\n",
              "        vertical-align: top;\n",
              "    }\n",
              "\n",
              "    .dataframe thead th {\n",
              "        text-align: right;\n",
              "    }\n",
              "</style>\n",
              "<table border=\"1\" class=\"dataframe\">\n",
              "  <thead>\n",
              "    <tr style=\"text-align: right;\">\n",
              "      <th></th>\n",
              "      <th>Id</th>\n",
              "      <th>Tetx</th>\n",
              "      <th>City</th>\n",
              "      <th>Sex</th>\n",
              "      <th>Bdate</th>\n",
              "      <th>type</th>\n",
              "    </tr>\n",
              "  </thead>\n",
              "  <tbody>\n",
              "    <tr>\n",
              "      <th>1929</th>\n",
              "      <td>508064204</td>\n",
              "      <td>Не понял блядь</td>\n",
              "      <td>-</td>\n",
              "      <td>2</td>\n",
              "      <td>-</td>\n",
              "      <td>блядь</td>\n",
              "    </tr>\n",
              "    <tr>\n",
              "      <th>28282</th>\n",
              "      <td>617767218</td>\n",
              "      <td>чё за кринжуха блять)</td>\n",
              "      <td>-</td>\n",
              "      <td>1</td>\n",
              "      <td>22.3.2002</td>\n",
              "      <td>блять</td>\n",
              "    </tr>\n",
              "    <tr>\n",
              "      <th>74878</th>\n",
              "      <td>102977951</td>\n",
              "      <td>Бля, нытики в коментах в своём репертуаре, Бля...</td>\n",
              "      <td>-</td>\n",
              "      <td>2</td>\n",
              "      <td>2.2.1999</td>\n",
              "      <td>блять</td>\n",
              "    </tr>\n",
              "    <tr>\n",
              "      <th>21071</th>\n",
              "      <td>160852996</td>\n",
              "      <td>[id310079830|Август], СПЕРМОБАКИ!!!!ХОДИМ, БЛЯ...</td>\n",
              "      <td>-</td>\n",
              "      <td>2</td>\n",
              "      <td>12.8.1902</td>\n",
              "      <td>блять</td>\n",
              "    </tr>\n",
              "    <tr>\n",
              "      <th>27347</th>\n",
              "      <td>611161474</td>\n",
              "      <td>Кто это блять?</td>\n",
              "      <td>-</td>\n",
              "      <td>2</td>\n",
              "      <td>23.7.2001</td>\n",
              "      <td>блять</td>\n",
              "    </tr>\n",
              "    <tr>\n",
              "      <th>8493</th>\n",
              "      <td>73502656</td>\n",
              "      <td>Чтоб они все сдохли блядь. Мерзость.</td>\n",
              "      <td>Magnitogorsk</td>\n",
              "      <td>2</td>\n",
              "      <td>-</td>\n",
              "      <td>блядь</td>\n",
              "    </tr>\n",
              "    <tr>\n",
              "      <th>57647</th>\n",
              "      <td>187211972</td>\n",
              "      <td>Блять,как это разчитать?</td>\n",
              "      <td>-</td>\n",
              "      <td>2</td>\n",
              "      <td>11.1.1991</td>\n",
              "      <td>блять</td>\n",
              "    </tr>\n",
              "    <tr>\n",
              "      <th>75208</th>\n",
              "      <td>550599531</td>\n",
              "      <td>[id500202869|Евгений], Обосрался блять, Обосра...</td>\n",
              "      <td>-</td>\n",
              "      <td>2</td>\n",
              "      <td>17.3.1998</td>\n",
              "      <td>блять</td>\n",
              "    </tr>\n",
              "    <tr>\n",
              "      <th>78367</th>\n",
              "      <td>135366291</td>\n",
              "      <td>Город Краснознаменск улица связистов 10 кварти...</td>\n",
              "      <td>-</td>\n",
              "      <td>2</td>\n",
              "      <td>-</td>\n",
              "      <td>блять</td>\n",
              "    </tr>\n",
              "    <tr>\n",
              "      <th>44286</th>\n",
              "      <td>316048267</td>\n",
              "      <td>Это блять кто?</td>\n",
              "      <td>-</td>\n",
              "      <td>2</td>\n",
              "      <td>-</td>\n",
              "      <td>блять</td>\n",
              "    </tr>\n",
              "  </tbody>\n",
              "</table>\n",
              "</div>"
            ],
            "text/plain": [
              "              Id  ...   type\n",
              "1929   508064204  ...  блядь\n",
              "28282  617767218  ...  блять\n",
              "74878  102977951  ...  блять\n",
              "21071  160852996  ...  блять\n",
              "27347  611161474  ...  блять\n",
              "8493    73502656  ...  блядь\n",
              "57647  187211972  ...  блять\n",
              "75208  550599531  ...  блять\n",
              "78367  135366291  ...  блять\n",
              "44286  316048267  ...  блять\n",
              "\n",
              "[10 rows x 6 columns]"
            ]
          },
          "metadata": {
            "tags": []
          },
          "execution_count": 210
        }
      ]
    },
    {
      "cell_type": "code",
      "metadata": {
        "colab": {
          "base_uri": "https://localhost:8080/"
        },
        "id": "foayEvhQRg8S",
        "outputId": "082c44c1-b073-415d-f98f-8d5c92c3f600"
      },
      "source": [
        "df_age = df_meta[df_meta['Bdate'] != '-']\n",
        "df_age.shape"
      ],
      "execution_count": null,
      "outputs": [
        {
          "output_type": "execute_result",
          "data": {
            "text/plain": [
              "(31199, 6)"
            ]
          },
          "metadata": {
            "tags": []
          },
          "execution_count": 211
        }
      ]
    },
    {
      "cell_type": "code",
      "metadata": {
        "id": "1roMOz-wSCVh"
      },
      "source": [
        "def get_age(bdate):\n",
        "    datetime_bdate = datetime.datetime.strptime(bdate, '%d.%m.%Y')\n",
        "    time_difference = relativedelta(datetime.datetime.today(), datetime_bdate)\n",
        "    # age = datetime.datetime.today() - datetime_bdate\n",
        "    return time_difference.years"
      ],
      "execution_count": null,
      "outputs": []
    },
    {
      "cell_type": "code",
      "metadata": {
        "colab": {
          "base_uri": "https://localhost:8080/"
        },
        "id": "NAfa6zQPVUM-",
        "outputId": "c65e0576-d204-42df-8540-bc2e3c8906ce"
      },
      "source": [
        "df_age['age'] = df_age['Bdate'].progress_apply(get_age)"
      ],
      "execution_count": null,
      "outputs": [
        {
          "output_type": "stream",
          "text": [
            "100%|██████████| 31199/31199 [00:01<00:00, 28171.75it/s]\n",
            "/usr/local/lib/python3.7/dist-packages/ipykernel_launcher.py:1: SettingWithCopyWarning: \n",
            "A value is trying to be set on a copy of a slice from a DataFrame.\n",
            "Try using .loc[row_indexer,col_indexer] = value instead\n",
            "\n",
            "See the caveats in the documentation: https://pandas.pydata.org/pandas-docs/stable/user_guide/indexing.html#returning-a-view-versus-a-copy\n",
            "  \"\"\"Entry point for launching an IPython kernel.\n"
          ],
          "name": "stderr"
        }
      ]
    },
    {
      "cell_type": "code",
      "metadata": {
        "colab": {
          "base_uri": "https://localhost:8080/",
          "height": 204
        },
        "id": "oO-AAffXWefZ",
        "outputId": "5c2c1656-b287-4d40-ccb0-17168d21b6ad"
      },
      "source": [
        "df_age.sample(5)"
      ],
      "execution_count": null,
      "outputs": [
        {
          "output_type": "execute_result",
          "data": {
            "text/html": [
              "<div>\n",
              "<style scoped>\n",
              "    .dataframe tbody tr th:only-of-type {\n",
              "        vertical-align: middle;\n",
              "    }\n",
              "\n",
              "    .dataframe tbody tr th {\n",
              "        vertical-align: top;\n",
              "    }\n",
              "\n",
              "    .dataframe thead th {\n",
              "        text-align: right;\n",
              "    }\n",
              "</style>\n",
              "<table border=\"1\" class=\"dataframe\">\n",
              "  <thead>\n",
              "    <tr style=\"text-align: right;\">\n",
              "      <th></th>\n",
              "      <th>Id</th>\n",
              "      <th>Tetx</th>\n",
              "      <th>City</th>\n",
              "      <th>Sex</th>\n",
              "      <th>Bdate</th>\n",
              "      <th>type</th>\n",
              "      <th>age</th>\n",
              "    </tr>\n",
              "  </thead>\n",
              "  <tbody>\n",
              "    <tr>\n",
              "      <th>42165</th>\n",
              "      <td>524021089</td>\n",
              "      <td>[club166624238|LIL3UCK], ахахахахахах,шутки пр...</td>\n",
              "      <td>-</td>\n",
              "      <td>2</td>\n",
              "      <td>29.7.2004</td>\n",
              "      <td>блять</td>\n",
              "      <td>16</td>\n",
              "    </tr>\n",
              "    <tr>\n",
              "      <th>49429</th>\n",
              "      <td>98208993</td>\n",
              "      <td>активный пользователь инстаграма - #лето #друз...</td>\n",
              "      <td>Yekaterinburg</td>\n",
              "      <td>2</td>\n",
              "      <td>13.1.1998</td>\n",
              "      <td>блять</td>\n",
              "      <td>23</td>\n",
              "    </tr>\n",
              "    <tr>\n",
              "      <th>4170</th>\n",
              "      <td>570757706</td>\n",
              "      <td>[id406153382|Евгений], ты перхоть подзалупная,...</td>\n",
              "      <td>Tel Aviv</td>\n",
              "      <td>2</td>\n",
              "      <td>31.12.2000</td>\n",
              "      <td>блядь</td>\n",
              "      <td>20</td>\n",
              "    </tr>\n",
              "    <tr>\n",
              "      <th>26887</th>\n",
              "      <td>394168580</td>\n",
              "      <td>[id603787196|Алексей], ты блять чушка африканская</td>\n",
              "      <td>Troitsk</td>\n",
              "      <td>2</td>\n",
              "      <td>18.2.2003</td>\n",
              "      <td>блять</td>\n",
              "      <td>18</td>\n",
              "    </tr>\n",
              "    <tr>\n",
              "      <th>41174</th>\n",
              "      <td>566052277</td>\n",
              "      <td>НУ КАНЬЕ БЛЯТЬ НУ ОНИ ЖЕ НЕ ПРОЗРАЧНЫЕ НУ БЛЯЯ...</td>\n",
              "      <td>Al Muḩarraq</td>\n",
              "      <td>2</td>\n",
              "      <td>16.10.1996</td>\n",
              "      <td>блять</td>\n",
              "      <td>24</td>\n",
              "    </tr>\n",
              "  </tbody>\n",
              "</table>\n",
              "</div>"
            ],
            "text/plain": [
              "              Id                                               Tetx  ...   type  age\n",
              "42165  524021089  [club166624238|LIL3UCK], ахахахахахах,шутки пр...  ...  блять   16\n",
              "49429   98208993  активный пользователь инстаграма - #лето #друз...  ...  блять   23\n",
              "4170   570757706  [id406153382|Евгений], ты перхоть подзалупная,...  ...  блядь   20\n",
              "26887  394168580  [id603787196|Алексей], ты блять чушка африканская  ...  блять   18\n",
              "41174  566052277  НУ КАНЬЕ БЛЯТЬ НУ ОНИ ЖЕ НЕ ПРОЗРАЧНЫЕ НУ БЛЯЯ...  ...  блять   24\n",
              "\n",
              "[5 rows x 7 columns]"
            ]
          },
          "metadata": {
            "tags": []
          },
          "execution_count": 260
        }
      ]
    },
    {
      "cell_type": "code",
      "metadata": {
        "colab": {
          "base_uri": "https://localhost:8080/"
        },
        "id": "eX0V5NN-WjFL",
        "outputId": "e6a21833-26bd-4398-95bb-a0cf03f28cda"
      },
      "source": [
        "youngest = df_age[df_age['age'] < 21]\n",
        "youngest_corp = ' '.join(youngest['Tetx'])\n",
        "young = df_age[df_age['age'] > 20]\n",
        "young = young[young['age'] < 31]\n",
        "young_corp = ' '.join(young['Tetx'])\n",
        "old = df_age[df_age['age'] > 30]\n",
        "old_corp = ' '.join(old['Tetx'])\n",
        "\n",
        "print(len(youngest_corp), len(young_corp), len(old_corp))"
      ],
      "execution_count": null,
      "outputs": [
        {
          "output_type": "stream",
          "text": [
            "1471210 1417807 654939\n"
          ],
          "name": "stdout"
        }
      ]
    },
    {
      "cell_type": "code",
      "metadata": {
        "colab": {
          "base_uri": "https://localhost:8080/"
        },
        "id": "b6XnwcblX2Hj",
        "outputId": "6e9e8800-d8f9-4ea2-b8b9-433eec9e646f"
      },
      "source": [
        "print('1-я возрастная группа: \\nNumber of comments with \"блять\": {}, number of comments with \"блядь\": {}\\n'.format(youngest[youngest['type'] == 'блять'].shape[0], youngest[youngest['type'] == 'блядь'].shape[0]))\n",
        "print('2-я возрастная группа: \\nNumber of comments with \"блять\": {}, number of comments with \"блядь\": {}\\n'.format(young[young['type'] == 'блять'].shape[0], young[young['type'] == 'блядь'].shape[0]))\n",
        "print('3-я возрастная группа: \\nNumber of comments with \"блять\": {}, number of comments with \"блядь\": {}\\n'.format(old[old['type'] == 'блять'].shape[0], old[old['type'] == 'блядь'].shape[0]))\n"
      ],
      "execution_count": null,
      "outputs": [
        {
          "output_type": "stream",
          "text": [
            "1-я возрастная группа: \n",
            "Number of comments with \"блять\": 12011, number of comments with \"блядь\": 1177\n",
            "\n",
            "2-я возрастная группа: \n",
            "Number of comments with \"блять\": 9906, number of comments with \"блядь\": 1775\n",
            "\n",
            "3-я возрастная группа: \n",
            "Number of comments with \"блять\": 4355, number of comments with \"блядь\": 734\n",
            "\n"
          ],
          "name": "stdout"
        }
      ]
    },
    {
      "cell_type": "markdown",
      "metadata": {
        "id": "iRl8OY10Z0k9"
      },
      "source": [
        "Люди до 20 лет употребляют \"блять\" в 10 раз чаще, чем \"блядь\"; люди от 20 до 30 - в 5,5; люди старше 30 - почти в 6 раз чаще. "
      ]
    },
    {
      "cell_type": "code",
      "metadata": {
        "colab": {
          "base_uri": "https://localhost:8080/",
          "height": 52
        },
        "id": "6RhyJL2YaACx",
        "outputId": "be58d853-2259-478c-9616-4c740b01e24c"
      },
      "source": [
        "youngest_corp = re.sub('#', '', youngest_corp)\n",
        "youngest_corp = re.sub('\\[.+?\\]', '', youngest_corp)\n",
        "youngest_corp = youngest_corp.lower()\n",
        "youngest_corp = re.sub('\\d+', ' ', youngest_corp)\n",
        "youngest_corp = re.sub('[-*]', '', youngest_corp)\n",
        "\n",
        "youngest_corp = re.sub('[!\"#$%&\\'()+,./:;<=>?@[\\]^_`{|}~]', ' ', youngest_corp)\n",
        "\n",
        "words = re.findall('[А-Яа-я]+', youngest_corp)\n",
        "youngest_corp = ' '.join(words)\n",
        "youngest_corp[:300]"
      ],
      "execution_count": null,
      "outputs": [
        {
          "output_type": "execute_result",
          "data": {
            "application/vnd.google.colaboratory.intrinsic+json": {
              "type": "string"
            },
            "text/plain": [
              "'анилингус блядь админ да как ты заебал я бы тебе ебало набил мы хотим перчиков и тугосерь что за говно блядь всем похуй что она жрет пускай лучше говно тугосери навернет блядь репорт слон и моська блядь ор блядь обожаю эти фейковые файлообменники посмейтесь блядь блядь помидоры за хривен еб твою мат'"
            ]
          },
          "metadata": {
            "tags": []
          },
          "execution_count": 265
        }
      ]
    },
    {
      "cell_type": "code",
      "metadata": {
        "colab": {
          "base_uri": "https://localhost:8080/",
          "height": 52
        },
        "id": "y8YbXQqua0Wp",
        "outputId": "e7b2094d-0243-468b-f5f4-a63983dff951"
      },
      "source": [
        "young_corp = re.sub('#', '', young_corp)\n",
        "young_corp = re.sub('\\[.+?\\]', '', young_corp)\n",
        "young_corp = young_corp.lower()\n",
        "young_corp = re.sub('\\d+', ' ', young_corp)\n",
        "young_corp = re.sub('[-*]', '', young_corp)\n",
        "\n",
        "young_corp = re.sub('[!\"#$%&\\'()+,./:;<=>?@[\\]^_`{|}~]', ' ', young_corp)\n",
        "\n",
        "words = re.findall('[А-Яа-я]+', young_corp)\n",
        "young_corp = ' '.join(words)\n",
        "young_corp[:300]"
      ],
      "execution_count": null,
      "outputs": [
        {
          "output_type": "execute_result",
          "data": {
            "application/vnd.google.colaboratory.intrinsic+json": {
              "type": "string"
            },
            "text/plain": [
              "'он же блядь не насрал на телефон то слыш блядь есть блядь просто хорошие психологи увлекающиеся физиогномикой и обладающие логическим мышлением о боже экстрасексы ничего скоро успокоится поймет свою ущербность пойдет поплачет и напишет фанфик о том какие женщины бляди и мрази ты такая ебнутая блядь '"
            ]
          },
          "metadata": {
            "tags": []
          },
          "execution_count": 266
        }
      ]
    },
    {
      "cell_type": "code",
      "metadata": {
        "colab": {
          "base_uri": "https://localhost:8080/",
          "height": 52
        },
        "id": "q1Rko2M4a7Xm",
        "outputId": "2d34aa7d-bda3-4eb3-80c2-77625288820d"
      },
      "source": [
        "old_corp = re.sub('#', '', old_corp)\n",
        "old_corp = re.sub('\\[.+?\\]', '', old_corp)\n",
        "old_corp = old_corp.lower()\n",
        "old_corp = re.sub('\\d+', ' ', old_corp)\n",
        "old_corp = re.sub('[-*]', '', old_corp)\n",
        "\n",
        "old_corp = re.sub('[!\"#$%&\\'()+,./:;<=>?@[\\]^_`{|}~]', ' ', old_corp)\n",
        "\n",
        "words = re.findall('[А-Яа-я]+', old_corp)\n",
        "old_corp = ' '.join(words)\n",
        "old_corp[:300]"
      ],
      "execution_count": null,
      "outputs": [
        {
          "output_type": "execute_result",
          "data": {
            "application/vnd.google.colaboratory.intrinsic+json": {
              "type": "string"
            },
            "text/plain": [
              "'я не удивлюсь если большинство срунов и ссунов среди баб мерзких и тошнотных созданий кровяные выбляди блядь тут только ты блядик было уже блядь мужиков блядей тоже хватает и что это хорошо бляди бляди оо о бляди бляди бляди блядские поноспонос бляди или блядь опоносилась или блядские месячныемесячн'"
            ]
          },
          "metadata": {
            "tags": []
          },
          "execution_count": 267
        }
      ]
    },
    {
      "cell_type": "code",
      "metadata": {
        "id": "hhlQPD3dbqAp"
      },
      "source": [
        "with open('youngest_corpus.txt', 'w', encoding='utf-8') as fi_youngest:\n",
        "  fi_youngest.write(youngest_corp)\n",
        "\n",
        "with open('young_corpus.txt', 'w', encoding='utf-8') as fi_young:\n",
        "  fi_young.write(young_corp)\n",
        "\n",
        "with open('old_corpus.txt', 'w', encoding='utf-8') as fi_old:\n",
        "  fi_old.write(old_corp)\n",
        "\n",
        "f1 = 'youngest_corpus.txt'\n",
        "data_youngest = gensim.models.word2vec.LineSentence(f1)\n",
        "f2 = 'young_corpus.txt'\n",
        "data_young = gensim.models.word2vec.LineSentence(f2)\n",
        "f3 = 'old_corpus.txt'\n",
        "data_old = gensim.models.word2vec.LineSentence(f3)"
      ],
      "execution_count": null,
      "outputs": []
    },
    {
      "cell_type": "code",
      "metadata": {
        "id": "rDtdz0a4cISL"
      },
      "source": [
        "model_youngest = gensim.models.Word2Vec(data_youngest, size=300, window=9, min_count=2)\n",
        "model_young = gensim.models.Word2Vec(data_young, size=300, window=9, min_count=2)\n",
        "model_old = gensim.models.Word2Vec(data_old, size=300, window=9, min_count=2)"
      ],
      "execution_count": null,
      "outputs": []
    },
    {
      "cell_type": "code",
      "metadata": {
        "colab": {
          "base_uri": "https://localhost:8080/"
        },
        "id": "wtj4pZgncWqy",
        "outputId": "15d7211e-319a-4cef-e65f-fe6da5ee40fc"
      },
      "source": [
        "model_youngest.init_sims(replace=True)\n",
        "model_youngest_path = \"model_youngest.bin\"\n",
        "print(\"Saving model for 1st group...\")\n",
        "model_youngest.wv.save_word2vec_format(model_youngest_path, binary=True)\n",
        "\n",
        "model_young.init_sims(replace=True)\n",
        "model_young_path = \"model_young.bin\"\n",
        "print(\"Saving model for 2nd group...\")\n",
        "model_young.wv.save_word2vec_format(model_young_path, binary=True)\n",
        "\n",
        "model_old.init_sims(replace=True)\n",
        "model_old_path = \"model_old.bin\"\n",
        "print(\"Saving model for 3rd group...\")\n",
        "model_old.wv.save_word2vec_format(model_old_path, binary=True)"
      ],
      "execution_count": null,
      "outputs": [
        {
          "output_type": "stream",
          "text": [
            "Saving model for 1st group...\n",
            "Saving model for 2nd group...\n",
            "Saving model for 3rd group...\n"
          ],
          "name": "stdout"
        }
      ]
    },
    {
      "cell_type": "code",
      "metadata": {
        "id": "ZlzZYGZ1c5iT"
      },
      "source": [
        "print('Similarity for 1st group: {}\\nSimilarity for 2nd group: {}\\nSimilarity for 3rd group: {}'.format(model_youngest.wv.similarity('блядь', 'блять'), model_young.wv.similarity('блядь', 'блять'), model_old.wv.similarity('блядь', 'блять')))"
      ],
      "execution_count": null,
      "outputs": []
    },
    {
      "cell_type": "markdown",
      "metadata": {
        "id": "K4C4zlu1VQeI"
      },
      "source": [
        "## Сравнение по городу\n",
        "\n",
        "\n",
        "\n"
      ]
    },
    {
      "cell_type": "code",
      "metadata": {
        "id": "nan4CukhVkZh"
      },
      "source": [
        "df_more1b = df_meta[df_meta['City population'] > 999999]\n",
        "df_less1b = df_meta[df_meta['City population'] <= 999999]"
      ],
      "execution_count": null,
      "outputs": []
    },
    {
      "cell_type": "code",
      "metadata": {
        "colab": {
          "base_uri": "https://localhost:8080/"
        },
        "id": "5omYyAvlWAot",
        "outputId": "361a4991-2cc5-42ba-8060-e6bf26d69083"
      },
      "source": [
        "print('More 1b city: \\nNumber of comments with \"блять\": {}, number of comments with \"блядь\": {}\\n'.format(df_more1b[df_more1b['type'] == 'блять'].shape[0], df_more1b[df_more1b['type'] == 'блядь'].shape[0]))\n",
        "print('Less 1b city: \\nNumber of comments with \"блять\": {}, number of comments with \"блядь\": {}'.format(df_less1b[df_less1b['type'] == 'блять'].shape[0], df_less1b[df_less1b['type'] == 'блядь'].shape[0]))"
      ],
      "execution_count": null,
      "outputs": [
        {
          "output_type": "stream",
          "text": [
            "More 1b city: \n",
            "Number of comments with \"блять\": 19214, number of comments with \"блядь\": 2928\n",
            "\n",
            "Less 1b city: \n",
            "Number of comments with \"блять\": 47302, number of comments with \"блядь\": 7156\n"
          ],
          "name": "stdout"
        }
      ]
    },
    {
      "cell_type": "code",
      "metadata": {
        "colab": {
          "base_uri": "https://localhost:8080/"
        },
        "id": "mnsWv_zaWTo3",
        "outputId": "04f33d7e-c272-4b7e-e4e0-8d9025e6ce83"
      },
      "source": [
        "less1b_corp = ' '.join(df_less1b['Text'])\n",
        "more1b_corp = ' '.join(df_more1b['Text'])\n",
        "len(less1b_corp), len(more1b_corp)"
      ],
      "execution_count": null,
      "outputs": [
        {
          "output_type": "execute_result",
          "data": {
            "text/plain": [
              "(6249946, 2668115)"
            ]
          },
          "metadata": {
            "tags": []
          },
          "execution_count": 20
        }
      ]
    },
    {
      "cell_type": "code",
      "metadata": {
        "colab": {
          "base_uri": "https://localhost:8080/",
          "height": 71
        },
        "id": "uhzlfYSIWfnD",
        "outputId": "f6ed05a5-92e8-4e65-bbe7-efbcd0b05834"
      },
      "source": [
        "less1b_corp[:300]"
      ],
      "execution_count": null,
      "outputs": [
        {
          "output_type": "execute_result",
          "data": {
            "application/vnd.google.colaboratory.intrinsic+json": {
              "type": "string"
            },
            "text/plain": [
              "'Марсианка блядь Дорогие бляди, у кого есть казлы имеющие проблемы с алкоголем, Я могу помочь вам. есть одно замечательное средство, лично проверенное моим казлом, за 3 недели отпоила и теперь никакого алкоголя. Кому интересно, Я подробнее написала у себЯ на страничке, заходите смотрите Просто больши'"
            ]
          },
          "metadata": {
            "tags": []
          },
          "execution_count": 21
        }
      ]
    },
    {
      "cell_type": "code",
      "metadata": {
        "colab": {
          "base_uri": "https://localhost:8080/",
          "height": 71
        },
        "id": "reLR02eBWiar",
        "outputId": "215ecd0b-0fe3-4b11-a56b-70a18923d65c"
      },
      "source": [
        "less1b_corp = re.sub('#', '', less1b_corp)\n",
        "less1b_corp = re.sub('\\[.+?\\]', '', less1b_corp)\n",
        "less1b_corp = less1b_corp.lower()\n",
        "less1b_corp = re.sub('\\d+', ' ', less1b_corp)\n",
        "less1b_corp = re.sub('[-*]', '', less1b_corp)\n",
        "\n",
        "less1b_corp = re.sub('[!\"#$%&\\'()+,./:;<=>?@[\\]^_`{|}~]', ' ', less1b_corp)\n",
        "\n",
        "words = re.findall('[А-Яа-я]+', less1b_corp)\n",
        "less1b_corp = ' '.join(words)\n",
        "less1b_corp[:300]"
      ],
      "execution_count": null,
      "outputs": [
        {
          "output_type": "execute_result",
          "data": {
            "application/vnd.google.colaboratory.intrinsic+json": {
              "type": "string"
            },
            "text/plain": [
              "'марсианка блядь дорогие бляди у кого есть казлы имеющие проблемы с алкоголем я могу помочь вам есть одно замечательное средство лично проверенное моим казлом за недели отпоила и теперь никакого алкоголя кому интересно я подробнее написала у себя на страничке заходите смотрите просто большинство муда'"
            ]
          },
          "metadata": {
            "tags": []
          },
          "execution_count": 22
        }
      ]
    },
    {
      "cell_type": "code",
      "metadata": {
        "colab": {
          "base_uri": "https://localhost:8080/",
          "height": 71
        },
        "id": "BCWgpwfLWsiG",
        "outputId": "f4b9c8e3-05fe-49a6-bd20-f8559d98424e"
      },
      "source": [
        "more1b_corp = re.sub('#', '', more1b_corp)\n",
        "more1b_corp = re.sub('\\[.+?\\]', '', more1b_corp)\n",
        "more1b_corp = more1b_corp.lower()\n",
        "more1b_corp = re.sub('\\d+', ' ', more1b_corp)\n",
        "more1b_corp = re.sub('[-*]', '', more1b_corp)\n",
        "\n",
        "more1b_corp = re.sub('[!\"#$%&\\'()+,./:;<=>?@[\\]^_`{|}~]', ' ', more1b_corp)\n",
        "\n",
        "words = re.findall('[А-Яа-я]+', more1b_corp)\n",
        "more1b_corp = ' '.join(words)\n",
        "more1b_corp[:300]"
      ],
      "execution_count": null,
      "outputs": [
        {
          "output_type": "execute_result",
          "data": {
            "application/vnd.google.colaboratory.intrinsic+json": {
              "type": "string"
            },
            "text/plain": [
              "'сколько агрессии даешь в задницу ты а блядь я ну да что ж тебе еще остается бедолага бля я на первом курсе ездила с огромной хуевиной деревянным планшетом размер см на в чехле рост у меня был и эта хуйня мне была почти по пояс в другой руке сумка и коробище с макетом мне очень редко место уступали я'"
            ]
          },
          "metadata": {
            "tags": []
          },
          "execution_count": 23
        }
      ]
    },
    {
      "cell_type": "code",
      "metadata": {
        "id": "XtGwg5NmW3AG"
      },
      "source": [
        "with open('more1b_corpus.txt', 'w', encoding='utf-8') as fi_more:\n",
        "  fi_more.write(more1b_corp)\n",
        "with open('less1b_corpus.txt', 'w', encoding='utf-8') as fi_less:\n",
        "  fi_less.write(less1b_corp)"
      ],
      "execution_count": null,
      "outputs": []
    },
    {
      "cell_type": "code",
      "metadata": {
        "id": "K68M5E-yXGVj"
      },
      "source": [
        "f1 = 'more1b_corpus.txt'\n",
        "data_more = gensim.models.word2vec.LineSentence(f1)\n",
        "f2 = 'less1b_corpus.txt'\n",
        "data_less = gensim.models.word2vec.LineSentence(f2)"
      ],
      "execution_count": null,
      "outputs": []
    },
    {
      "cell_type": "code",
      "metadata": {
        "colab": {
          "base_uri": "https://localhost:8080/"
        },
        "id": "0jrkbnJgXO43",
        "outputId": "4ffbac30-958a-4fbd-a140-84b7fed52a51"
      },
      "source": [
        "%time model_more = gensim.models.Word2Vec(data_more, size=300, window=9, min_count=2)"
      ],
      "execution_count": null,
      "outputs": [
        {
          "output_type": "stream",
          "text": [
            "CPU times: user 15.1 s, sys: 84.2 ms, total: 15.2 s\n",
            "Wall time: 10.3 s\n"
          ],
          "name": "stdout"
        }
      ]
    },
    {
      "cell_type": "code",
      "metadata": {
        "colab": {
          "base_uri": "https://localhost:8080/"
        },
        "id": "gx6qobp3XTbt",
        "outputId": "a03986e5-4cd8-4597-ddf3-3a48afc73e1c"
      },
      "source": [
        "%time model_less = gensim.models.Word2Vec(data_less, size=300, window=9, min_count=2)"
      ],
      "execution_count": null,
      "outputs": [
        {
          "output_type": "stream",
          "text": [
            "CPU times: user 35.6 s, sys: 314 ms, total: 35.9 s\n",
            "Wall time: 23.1 s\n"
          ],
          "name": "stdout"
        }
      ]
    },
    {
      "cell_type": "code",
      "metadata": {
        "colab": {
          "base_uri": "https://localhost:8080/"
        },
        "id": "LurOuoNNXZGF",
        "outputId": "e57820f6-729c-4f36-e969-9b95daa31b84"
      },
      "source": [
        "model_less.init_sims(replace=True)\n",
        "model_less_path = \"model_less.bin\"\n",
        "\n",
        "print(\"Saving model for cities less 1b...\")\n",
        "model_less.wv.save_word2vec_format(model_less_path, binary=True)"
      ],
      "execution_count": null,
      "outputs": [
        {
          "output_type": "stream",
          "text": [
            "Saving model for cities less 1b...\n"
          ],
          "name": "stdout"
        }
      ]
    },
    {
      "cell_type": "code",
      "metadata": {
        "colab": {
          "base_uri": "https://localhost:8080/"
        },
        "id": "YbLnSgRiXnf2",
        "outputId": "8bb401ee-de26-4f93-a5c2-71ae006f790a"
      },
      "source": [
        "model_more.init_sims(replace=True)\n",
        "model_more_path = \"model_more.bin\"\n",
        "\n",
        "print(\"Saving model for cities more 1b...\")\n",
        "model_more.wv.save_word2vec_format(model_more_path, binary=True)"
      ],
      "execution_count": null,
      "outputs": [
        {
          "output_type": "stream",
          "text": [
            "Saving model for cities more 1b...\n"
          ],
          "name": "stdout"
        }
      ]
    },
    {
      "cell_type": "code",
      "metadata": {
        "colab": {
          "base_uri": "https://localhost:8080/"
        },
        "id": "uPqAp0sHXxTo",
        "outputId": "f4681a18-5221-4be5-a93c-341c77d4546b"
      },
      "source": [
        "model_more.wv.similarity('блядь', 'блять')"
      ],
      "execution_count": null,
      "outputs": [
        {
          "output_type": "execute_result",
          "data": {
            "text/plain": [
              "0.98077214"
            ]
          },
          "metadata": {
            "tags": []
          },
          "execution_count": 30
        }
      ]
    },
    {
      "cell_type": "code",
      "metadata": {
        "colab": {
          "base_uri": "https://localhost:8080/"
        },
        "id": "OxVXzL6KX1Mh",
        "outputId": "4f021af5-f085-4a14-add8-0bcf35d8abfa"
      },
      "source": [
        "model_less.wv.similarity('блядь', 'блять')"
      ],
      "execution_count": null,
      "outputs": [
        {
          "output_type": "execute_result",
          "data": {
            "text/plain": [
              "0.93749535"
            ]
          },
          "metadata": {
            "tags": []
          },
          "execution_count": 31
        }
      ]
    },
    {
      "cell_type": "code",
      "metadata": {
        "colab": {
          "base_uri": "https://localhost:8080/"
        },
        "id": "zn3QgCoLX3sf",
        "outputId": "6f6a563d-8bff-4cf2-f177-bb569d1412fa"
      },
      "source": [
        "model_more.wv.most_similar(\"блядь\", topn=10)"
      ],
      "execution_count": null,
      "outputs": [
        {
          "output_type": "execute_result",
          "data": {
            "text/plain": [
              "[('продолжение', 0.9866150617599487),\n",
              " ('щенок', 0.9856469631195068),\n",
              " ('блчть', 0.9836873412132263),\n",
              " ('ахуительно', 0.9835828542709351),\n",
              " ('репост', 0.9822808504104614),\n",
              " ('шься', 0.9822662472724915),\n",
              " ('окр', 0.9821023941040039),\n",
              " ('блять', 0.9807721376419067),\n",
              " ('трогай', 0.9787279963493347),\n",
              " ('пупка', 0.9776377081871033)]"
            ]
          },
          "metadata": {
            "tags": []
          },
          "execution_count": 32
        }
      ]
    },
    {
      "cell_type": "code",
      "metadata": {
        "colab": {
          "base_uri": "https://localhost:8080/"
        },
        "id": "9WO_yJWJX6mc",
        "outputId": "807edd2d-488b-4c2e-aecd-63da82893245"
      },
      "source": [
        "model_more.wv.most_similar('блять', topn=10)"
      ],
      "execution_count": null,
      "outputs": [
        {
          "output_type": "execute_result",
          "data": {
            "text/plain": [
              "[('фу', 0.9832509756088257),\n",
              " ('зашкварное', 0.9812309741973877),\n",
              " ('блядь', 0.9807721376419067),\n",
              " ('удаляет', 0.9800307750701904),\n",
              " ('кушал', 0.9789137244224548),\n",
              " ('пиздец', 0.9786537885665894),\n",
              " ('где', 0.9782518744468689),\n",
              " ('доказано', 0.9770193099975586),\n",
              " ('ис', 0.976982593536377),\n",
              " ('че', 0.9768842458724976)]"
            ]
          },
          "metadata": {
            "tags": []
          },
          "execution_count": 33
        }
      ]
    },
    {
      "cell_type": "code",
      "metadata": {
        "colab": {
          "base_uri": "https://localhost:8080/"
        },
        "id": "_zQG9WdQX9zW",
        "outputId": "4495db77-a80a-4d73-b4d8-678e54650a31"
      },
      "source": [
        "model_less.wv.most_similar(\"блядь\", topn=10)"
      ],
      "execution_count": null,
      "outputs": [
        {
          "output_type": "execute_result",
          "data": {
            "text/plain": [
              "[('блять', 0.9374954700469971),\n",
              " ('админ', 0.9122676849365234),\n",
              " ('лейлой', 0.9027143716812134),\n",
              " ('стрпницу', 0.8967263698577881),\n",
              " ('сукаааааа', 0.8960633277893066),\n",
              " ('фу', 0.8954200744628906),\n",
              " ('ой', 0.8935791254043579),\n",
              " ('откопали', 0.8900841474533081),\n",
              " ('отупел', 0.888058066368103),\n",
              " ('ничья', 0.8872628211975098)]"
            ]
          },
          "metadata": {
            "tags": []
          },
          "execution_count": 34
        }
      ]
    },
    {
      "cell_type": "code",
      "metadata": {
        "colab": {
          "base_uri": "https://localhost:8080/"
        },
        "id": "6Vcf_janX94Y",
        "outputId": "c4426868-32fe-4952-ad37-b992203928e6"
      },
      "source": [
        "model_less.wv.most_similar('блять', topn=10)"
      ],
      "execution_count": null,
      "outputs": [
        {
          "output_type": "execute_result",
          "data": {
            "text/plain": [
              "[('блядь', 0.9374954700469971),\n",
              " ('ой', 0.8696398735046387),\n",
              " ('ничья', 0.8683974742889404),\n",
              " ('ауешников', 0.8642392158508301),\n",
              " ('прочла', 0.8554661870002747),\n",
              " ('сукаааааа', 0.8508602380752563),\n",
              " ('геркулес', 0.8504762649536133),\n",
              " ('фу', 0.8491173982620239),\n",
              " ('ро', 0.8467000126838684),\n",
              " ('админ', 0.8460150957107544)]"
            ]
          },
          "metadata": {
            "tags": []
          },
          "execution_count": 35
        }
      ]
    }
  ]
}