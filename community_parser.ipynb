{
 "cells": [
  {
   "cell_type": "code",
   "execution_count": null,
   "metadata": {},
   "outputs": [],
   "source": [
    "import requests\n",
    "from tqdm.auto import tqdm\n",
    "import re\n",
    "import os\n",
    "\n",
    "\n",
    "TOKEN = os.environ.get('TOKEN')  \n",
    "VERSION = '5.130'"
   ]
  },
  {
   "cell_type": "code",
   "execution_count": null,
   "metadata": {},
   "outputs": [],
   "source": [
    "wall_get_url = \"https://api.vk.com/method/wall.get\""
   ]
  },
  {
   "cell_type": "code",
   "execution_count": null,
   "metadata": {},
   "outputs": [],
   "source": [
    "posts_ids = []"
   ]
  },
  {
   "cell_type": "code",
   "execution_count": null,
   "metadata": {},
   "outputs": [],
   "source": [
    "offset = 0\n",
    "count = 100\n",
    "\n",
    "while True:\n",
    "    data = requests.get(\n",
    "        wall_get_url, \n",
    "        params={\n",
    "            \"owner_id\": owner_id,   #  owner_id - id сообщества(-int)\n",
    "            \"offset\": offset,\n",
    "            \"count\": count,\n",
    "            \"fields\": 'id',\n",
    "            \"v\": VERSION,\n",
    "            \"access_token\": TOKEN\n",
    "        }\n",
    "    ).json()\n",
    "    for i in range(len(data['response']['items'])):\n",
    "        posts_ids.append(data['response']['items'][i]['id'])\n",
    "    offset += 100\n",
    "    count += 100\n",
    "\n",
    "    "
   ]
  },
  {
   "cell_type": "code",
   "execution_count": null,
   "metadata": {},
   "outputs": [],
   "source": [
    "get_comments_url = \"https://api.vk.com/method/wall.getComments\""
   ]
  },
  {
   "cell_type": "code",
   "execution_count": null,
   "metadata": {},
   "outputs": [],
   "source": [
    "personal_posts_d, personal_posts_dinf, personal_posts_t = {}, {}, {}\n"
   ]
  },
  {
   "cell_type": "code",
   "execution_count": null,
   "metadata": {},
   "outputs": [],
   "source": [
    "for c in tqdm(range(len(posts_ids))):\n",
    "    data = requests.get(\n",
    "        get_comments_url, \n",
    "        params={\n",
    "            \"owner_id\": owner_id,   #  owner_id - id сообщества(-int)\n",
    "            \"post_id\": posts_ids[c],\n",
    "            \"count\": 100,\n",
    "            \"thread_items_count\": 10,\n",
    "            \"v\": VERSION,\n",
    "            \"access_token\": TOKEN\n",
    "        }\n",
    "    ).json()\n",
    "    try:\n",
    "        for i in range(len(data['response']['items'])):\n",
    "            try:\n",
    "                if 'блять' in data['response']['items'][i]['text'].lower():\n",
    "                    personal_posts_t[data['response']['items'][i]['from_id']] = data['response']['items'][i]['text']\n",
    "                if 'блядь' in data['response']['items'][i]['text'].lower() or 'бляди' in data['response']['items'][i]['text'].lower() or 'блядью' in data['response']['items'][i]['text'].lower() or 'блядей' in data['response']['items'][i]['text'].lower() or 'блядям' in data['response']['items'][i]['text'].lower() or 'блядями' in data['response']['items'][i]['text'].lower() or 'блядях' in data['response']['items'][i]['text'].lower():\n",
    "                    personal_posts_d[data['response']['items'][i]['from_id']] = data['response']['items'][i]['text']\n",
    "                if 'блядь' in data['response']['items'][i]['text'].lower():\n",
    "                    personal_posts_dinf[data['response']['items'][i]['from_id']] = data['response']['items'][i]['text']\n",
    "            except:\n",
    "                KeyError\n",
    "                pass\n",
    "            try:\n",
    "                for j in range(len(data['response']['items'][i]['thread']['items'])):\n",
    "                    if 'блять' in data['response']['items'][i]['thread']['items'][j]['text'].lower():\n",
    "                        personal_posts_t[data['response']['items'][i]['thread']['items'][j]['from_id']] = data['response']['items'][i]['thread']['items'][j]['text']\n",
    "                    if 'блядь' in data['response']['items'][i]['thread']['items'][j]['text'].lower() or 'бляди' in data['response']['items'][i]['thread']['items'][j]['text'].lower() or 'блядью' in data['response']['items'][i]['thread']['items'][j]['text'].lower() or 'блядей' in data['response']['items'][i]['thread']['items'][j]['text'].lower() or 'блядям' in data['response']['items'][i]['thread']['items'][j]['text'].lower() or 'блядями' in data['response']['items'][i]['thread']['items'][j]['text'].lower() or 'блядях' in data['response']['items'][i]['thread']['items'][j]['text'].lower():\n",
    "                        personal_posts_d[data['response']['items'][i]['thread']['items'][j]['from_id']] = data['response']['items'][i]['thread']['items'][j]['text']\n",
    "                    if 'блядь' in data['response']['items'][i]['thread']['items'][j]['text'].lower():\n",
    "                        personal_posts_dinf[data['response']['items'][i]['thread']['items'][j]['from_id']] = data['response']['items'][i]['thread']['items'][j]['text']\n",
    "            except:\n",
    "                KeyError\n",
    "                pass\n",
    "    except:\n",
    "        print('error')\n",
    "        AttributeError\n",
    "        KeyError\n",
    "        pass\n"
   ]
  },
  {
   "cell_type": "code",
   "execution_count": null,
   "metadata": {},
   "outputs": [],
   "source": [
    "print(len(personal_posts_d), len(personal_posts_dinf), len(personal_posts_t))"
   ]
  },
  {
   "cell_type": "code",
   "execution_count": null,
   "metadata": {},
   "outputs": [],
   "source": [
    "with open('blds.txt', 'a', encoding='utf-8') as d_file:\n",
    "    for k, v in personal_posts_d.items():\n",
    "        d_file.write(str(k) + '#####' + str(re.sub('\\n', ' ', v)) + '\\n')"
   ]
  },
  {
   "cell_type": "code",
   "execution_count": null,
   "metadata": {},
   "outputs": [],
   "source": [
    "with open('blt.txt', 'a', encoding='utf-8') as t_file:\n",
    "    for k, v in personal_posts_t.items():\n",
    "        t_file.write(str(k) + '#####' + str(re.sub('\\n', ' ', v)) + '\\n')"
   ]
  },
  {
   "cell_type": "code",
   "execution_count": null,
   "metadata": {},
   "outputs": [],
   "source": [
    "with open('bld.txt', 'a', encoding='utf-8') as dinf_file:\n",
    "    for k, v in personal_posts_dinf.items():\n",
    "        dinf_file.write(str(k) + '#####' + str(re.sub('\\n', ' ', v)) + '\\n')"
   ]
  },
  {
   "cell_type": "code",
   "execution_count": null,
   "metadata": {},
   "outputs": [],
   "source": []
  }
 ],
 "metadata": {
  "kernelspec": {
   "display_name": "Python 3",
   "language": "python",
   "name": "python3"
  },
  "language_info": {
   "codemirror_mode": {
    "name": "ipython",
    "version": 3
   },
   "file_extension": ".py",
   "mimetype": "text/x-python",
   "name": "python",
   "nbconvert_exporter": "python",
   "pygments_lexer": "ipython3",
   "version": "3.8.3"
  }
 },
 "nbformat": 4,
 "nbformat_minor": 4
}
