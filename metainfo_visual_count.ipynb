{
 "cells": [
  {
   "cell_type": "code",
   "execution_count": null,
   "metadata": {},
   "outputs": [],
   "source": [
    "import requests\n",
    "from tqdm.auto import tqdm\n",
    "import pandas as pd\n",
    "import re, os, csv\n",
    "\n",
    "\n",
    "TOKEN = os.environ.get('TOKEN') \n",
    "VERSION = '5.130'\n"
   ]
  },
  {
   "cell_type": "markdown",
   "metadata": {},
   "source": [
    "# Выкачивание мета-информации"
   ]
  },
  {
   "cell_type": "code",
   "execution_count": null,
   "metadata": {},
   "outputs": [],
   "source": [
    "filename = '<TEXTFILE>'       #  формат: id#####text\\n\n"
   ]
  },
  {
   "cell_type": "code",
   "execution_count": null,
   "metadata": {},
   "outputs": [],
   "source": [
    "ppl = []\n",
    "\n",
    "with open(filename, 'r', encoding='utf-8') as f:\n",
    "    itms = f.read().split('\\n')\n",
    "    for itm in itms:\n",
    "        pers = itm.split('#####')[0]\n",
    "        ppl.append(pers)\n",
    "        "
   ]
  },
  {
   "cell_type": "code",
   "execution_count": null,
   "metadata": {},
   "outputs": [],
   "source": [
    "ppl = list(set(ppl))\n"
   ]
  },
  {
   "cell_type": "code",
   "execution_count": null,
   "metadata": {},
   "outputs": [],
   "source": [
    "users_get_url = 'https://api.vk.com/method/users.get'\n",
    "all_users_data = []\n",
    "\n",
    "for i in tqdm(range(len(ppl))):\n",
    "    if ppl[i]:\n",
    "        user_info = requests.get(\n",
    "            users_get_url,\n",
    "            params={\n",
    "                'user_ids': int(ppl[i]),\n",
    "                'fields': 'city,sex,bdate',\n",
    "                'access_token': TOKEN,\n",
    "                'v': VERSION\n",
    "            }\n",
    "        ).json()\n",
    "        try:\n",
    "            all_users_data.extend(user_info['response'])\n",
    "        except:\n",
    "            KeyError   # при случаях, когда автор комментария - сообщество\n",
    "    "
   ]
  },
  {
   "cell_type": "code",
   "execution_count": null,
   "metadata": {},
   "outputs": [],
   "source": [
    "cities, sex, bdate, ids = [], [], [], []\n"
   ]
  },
  {
   "cell_type": "code",
   "execution_count": null,
   "metadata": {},
   "outputs": [],
   "source": [
    "for prson in all_users_data:\n",
    "    try:\n",
    "        if prson['id'] not in ids:\n",
    "            ids.append(prson['id'])\n",
    "            try:\n",
    "                cities.append(prson['city']['title'])\n",
    "            except:\n",
    "                KeyError\n",
    "                cities.append('-')\n",
    "            try:\n",
    "                sex.append(prson['sex'])\n",
    "            except:\n",
    "                KeyError\n",
    "                sex.append('-')\n",
    "            try:\n",
    "                bdate.append(prson['bdate'])\n",
    "            except:\n",
    "                KeyError\n",
    "                bdate.append('-')\n",
    "    except:\n",
    "        KeyError\n",
    "        pass"
   ]
  },
  {
   "cell_type": "markdown",
   "metadata": {},
   "source": [
    "Соединение мета-информации с текстом в один csv-файл:"
   ]
  },
  {
   "cell_type": "code",
   "execution_count": null,
   "metadata": {},
   "outputs": [],
   "source": [
    "with open(filename, 'r', encoding='utf-8') as idtext_file:\n",
    "    idtext_list = idtext_file.read().split('\\n')\n",
    "    del idtext_list[-1]\n",
    "    sorted_ids = []\n",
    "    texts = []\n",
    "    for _ in idtext_list:\n",
    "        user_id = _.split('#####')[0]\n",
    "        sorted_ids.append(user_id)\n",
    "        txt = _.split('#####')\n",
    "        del txt[0]\n",
    "        texts.append(''.join(txt))\n"
   ]
  },
  {
   "cell_type": "code",
   "execution_count": null,
   "metadata": {},
   "outputs": [],
   "source": [
    "with open('project.csv', 'a', encoding='utf-8') as csv_file:\n",
    "    file_writer = csv.writer(csv_file, delimiter = \"\\t\")\n",
    "    file_writer.writerow([\"Id\", \"Text\", \"City\", \"Sex\", \"Bdate\"])\n",
    "    for j in tqdm(range(len(sorted_ids))):\n",
    "        for i in range(len(ids)):\n",
    "            if str(sorted_ids[j]) == str(ids[i]):\n",
    "                if len(str(bdate[i])) > 6:\n",
    "                    file_writer.writerow([sorted_ids[j], texts[j], cities[i], sex[i], bdate[i]])\n",
    "                else:\n",
    "                    file_writer.writerow([sorted_ids[j], texts[j], cities[i], sex[i], '-'])\n",
    "                    "
   ]
  },
  {
   "cell_type": "markdown",
   "metadata": {},
   "source": [
    "# Поиск численности населения городов"
   ]
  },
  {
   "cell_type": "code",
   "execution_count": null,
   "metadata": {},
   "outputs": [],
   "source": [
    "df_meta = pd.read_csv('project.csv', sep='\\t')"
   ]
  },
  {
   "cell_type": "code",
   "execution_count": null,
   "metadata": {},
   "outputs": [],
   "source": [
    "df_c = list(df_meta['City'])"
   ]
  },
  {
   "cell_type": "code",
   "execution_count": null,
   "metadata": {},
   "outputs": [],
   "source": [
    "import geocoder\n",
    "import pandas as pd\n",
    "from tqdm.auto import tqdm\n",
    "city_ppl = {}\n",
    "df_meta = pd.read_csv('projectt.csv', sep='\\t')\n"
   ]
  },
  {
   "cell_type": "code",
   "execution_count": null,
   "metadata": {},
   "outputs": [],
   "source": [
    "cities = list(set(df_c))\n",
    "\n",
    "for city in cities:\n",
    "    g = geocoder.geonames(city, key='<USERNAME>', featureClass='A')\n",
    "    ppltn = g.population\n",
    "    city_ppl[city] = ppltn\n"
   ]
  },
  {
   "cell_type": "code",
   "execution_count": null,
   "metadata": {},
   "outputs": [],
   "source": [
    "city_int = {}\n",
    "\n",
    "for city in list(city_ppl):\n",
    "    if city_ppl[city] == None: \n",
    "        city_int[city] = 0\n",
    "    else: \n",
    "        city_int[city] = city_ppl[city]\n",
    "        "
   ]
  },
  {
   "cell_type": "code",
   "execution_count": null,
   "metadata": {},
   "outputs": [],
   "source": [
    "df_popl = []\n",
    "for city in df_c:\n",
    "    if city == '-':\n",
    "        df_popl.append(0)\n",
    "    else:\n",
    "        try:\n",
    "            df_popl.append(city_int[city])\n",
    "        except:\n",
    "            print('error')\n",
    "            "
   ]
  },
  {
   "cell_type": "code",
   "execution_count": null,
   "metadata": {},
   "outputs": [],
   "source": [
    "df_meta['City population'] = df_popl\n"
   ]
  },
  {
   "cell_type": "markdown",
   "metadata": {},
   "source": [
    "# Подсчеты"
   ]
  },
  {
   "cell_type": "code",
   "execution_count": null,
   "metadata": {},
   "outputs": [],
   "source": [
    "rslt_df_more1m = df_meta[df_meta['City population'] >= 1000000]\n",
    "rslt_df_less1m = df_meta[df_meta['City population'] < 1000000]\n",
    "rslt_df_w = df_meta[df_meta['Sex'] == 2]\n",
    "rslt_df_m = df_meta[df_meta['Sex'] >= 1]    \n"
   ]
  },
  {
   "cell_type": "code",
   "execution_count": null,
   "metadata": {},
   "outputs": [],
   "source": [
    "textmore = ' '.join(list(rslt_df_more1m['Text']))\n",
    "textless = ' '.join(list(rslt_df_less1m['Text']))\n",
    "textw = ' '.join(list(rslt_df_w['Text']))\n",
    "textm = ' '.join(list(rslt_df_m['Text']))\n",
    "texts = ' '.join(list(df_meta['Text']))\n"
   ]
  },
  {
   "cell_type": "code",
   "execution_count": null,
   "metadata": {},
   "outputs": [],
   "source": [
    "def count_tkns(text):\n",
    "    all_words = []\n",
    "    bld = re.findall('(блядь)[^а-яё]?', text.lower())\n",
    "    blt = re.findall('(блять)[^а-яё]?', text.lower())\n",
    "    bldi = re.findall('(бляд[ьиея][юймх]?[и]?)[^а-яё]?', text.lower())\n",
    "    tkns = re.findall('([а-яёa-z\\-0-9]+)[^а-яёa-z]?', text.lower())\n",
    "    for tkn in tkns:\n",
    "        if not re.findall('id[0-9]+', tkn):\n",
    "            all_words.append(tkn)\n",
    "    return len(bld), len(blt), len(all_words)\n"
   ]
  },
  {
   "cell_type": "code",
   "execution_count": null,
   "metadata": {},
   "outputs": [],
   "source": [
    "all_bld, all_blt, all_tkns = count_tkns(texts)\n",
    "more1m_bld, more1m_blt, more1m_tkns = count_tkns(textmore)\n",
    "less1m_bld, less1m_blt, less1m_tkns = count_tkns(textless)\n",
    "w_bld, w_blt, w_tkns = count_tkns(textw)\n",
    "m_bld, m_blt, m_tkns = count_tkns(textm)\n"
   ]
  },
  {
   "cell_type": "markdown",
   "metadata": {},
   "source": [
    "Количество токенов во всем тексте и в четырех подвыборках:"
   ]
  },
  {
   "cell_type": "code",
   "execution_count": null,
   "metadata": {},
   "outputs": [],
   "source": [
    "print(all_tkns, more1m_tkns, less1m_tkns, w_tkns, m_tkns)\n"
   ]
  },
  {
   "cell_type": "markdown",
   "metadata": {},
   "source": [
    "Процентное соотношение _блядь_ и _блять_ в городах с численностью населения более 1 миллиона и менее 1 миллиона:"
   ]
  },
  {
   "cell_type": "code",
   "execution_count": null,
   "metadata": {},
   "outputs": [],
   "source": [
    "print(more1m_bld*100/(more1m_bld+more1m_blt), more1m_blt*100/(more1m_bld+more1m_blt))\n",
    "print(less1m_bld*100/(less1m_bld+less1m_blt), less1m_blt*100/(less1m_bld+less1m_blt))\n"
   ]
  },
  {
   "cell_type": "markdown",
   "metadata": {},
   "source": [
    "Процентное соотношение _блядь_ и _блять_ относительно пола комментатора:"
   ]
  },
  {
   "cell_type": "code",
   "execution_count": null,
   "metadata": {},
   "outputs": [],
   "source": [
    "print(w_bld*100/(w_bld+w_blt), w_blt*100/(w_bld+w_blt))\n",
    "print(m_blt*100/(m_blt+m_bld), m_bld*100/(m_blt+m_bld))\n"
   ]
  },
  {
   "cell_type": "markdown",
   "metadata": {},
   "source": [
    "# Визуализации"
   ]
  },
  {
   "cell_type": "code",
   "execution_count": null,
   "metadata": {},
   "outputs": [],
   "source": [
    "import matplotlib.pyplot as plt\n",
    "%matplotlib inline\n",
    "import random\n",
    "random.seed = 23\n"
   ]
  },
  {
   "cell_type": "code",
   "execution_count": null,
   "metadata": {},
   "outputs": [],
   "source": [
    "blt_w, bld_w = w_blt*100/(w_bld+w_blt), w_bld*100/(w_bld+w_blt)\n",
    "blt_m, bld_m = m_blt*100/(m_blt+m_bld), m_bld*100/(m_blt+m_bld)\n"
   ]
  },
  {
   "cell_type": "code",
   "execution_count": null,
   "metadata": {},
   "outputs": [],
   "source": [
    "X = [1, 3]\n",
    "X2 = [2, 4]\n",
    "Y = [blt_w, bld_w]\n",
    "Y2 = [blt_m, bld_m]\n",
    "TITLES = ['блять (ж)', 'блядь (ж)', 'блять (м)', 'блядь (м)']\n",
    "plt.bar(X, Y, color='darkseagreen')\n",
    "plt.bar(X2, Y2, color='darkcyan')\n",
    "plt.xticks(ticks=X+X2, labels=TITLES)\n",
    "plt.title('Распределение словоформ по полу\\nговорящего в процентном соотношении')\n",
    "\n",
    "plt.show()\n"
   ]
  },
  {
   "cell_type": "code",
   "execution_count": null,
   "metadata": {},
   "outputs": [],
   "source": [
    "blt_20, bld_20, blt_midle, bld_midle, blt_30, bld_30 = 91, 9, 85, 15, 86, 14\n"
   ]
  },
  {
   "cell_type": "code",
   "execution_count": null,
   "metadata": {},
   "outputs": [],
   "source": [
    "X = [1, 4]\n",
    "X2 = [2, 5]\n",
    "X3 = [3, 6]\n",
    "Y = [blt_20, bld_20]\n",
    "Y2 = [blt_midle, bld_midle]\n",
    "Y3 = [blt_30, bld_30]\n",
    "TITLES = ['до 20', 'до 20', 'от 20 до 30', 'от 20 до 30', 'до 30', 'до 30']\n",
    "plt.bar(X, Y, color='darkseagreen')\n",
    "plt.bar(X2, Y2, color='darkcyan')\n",
    "plt.bar(X3, Y3, color='cadetblue')\n",
    "plt.xticks(ticks=X+X2+X3, labels=TITLES)\n",
    "plt.title('Распределение словоформ по возрасту\\nговорящего в процентном соотношении')\n",
    "plt.xlabel('блять                                         блядь')\n",
    "\n",
    "plt.show()\n"
   ]
  },
  {
   "cell_type": "code",
   "execution_count": null,
   "metadata": {},
   "outputs": [],
   "source": [
    "X = [2, 3, 4]\n",
    "Y = [all_blt, 16181, all_bld]\n",
    "TITLES = ['блять', 'блядь(общ.)', 'блядь-NOM']\n",
    "plt.bar(X, Y, color='cadetblue')\n",
    "plt.xticks(ticks=X, labels=TITLES)\n",
    "plt.title('Общее количество вхождений различных словоформ')\n",
    "plt.ylabel('Число вхождений')\n",
    "\n",
    "plt.show()\n"
   ]
  },
  {
   "cell_type": "code",
   "execution_count": null,
   "metadata": {},
   "outputs": [],
   "source": [
    "X = [1, 3]\n",
    "X2 = [2, 4]\n",
    "Y = [less1m_blt, less1m_bld]\n",
    "Y2 = [more1m_blt, more1m_bld]\n",
    "TITLES = ['блять (>1m)', 'блядь (>1m)', 'блять (<1m)', 'блядь (<1m)']\n",
    "plt.bar(X, Y, color='cadetblue')\n",
    "plt.bar(X2, Y2, color='darkseagreen')\n",
    "plt.xticks(ticks=X+X2, labels=TITLES)\n",
    "plt.title('Распределение словоформ по численности населения\\nгорода говорящего в процентном соотношении')\n",
    "\n",
    "plt.show()\n"
   ]
  },
  {
   "cell_type": "code",
   "execution_count": null,
   "metadata": {},
   "outputs": [],
   "source": []
  }
 ],
 "metadata": {
  "kernelspec": {
   "display_name": "Python 3",
   "language": "python",
   "name": "python3"
  },
  "language_info": {
   "codemirror_mode": {
    "name": "ipython",
    "version": 3
   },
   "file_extension": ".py",
   "mimetype": "text/x-python",
   "name": "python",
   "nbconvert_exporter": "python",
   "pygments_lexer": "ipython3",
   "version": "3.8.3"
  }
 },
 "nbformat": 4,
 "nbformat_minor": 4
}
